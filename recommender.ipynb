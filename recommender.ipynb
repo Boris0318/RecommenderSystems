{
 "cells": [
  {
   "cell_type": "markdown",
   "metadata": {},
   "source": [
    "## Recommender systems group assignment\n",
    "Everyone add their code to this notebook and make sure its well documented! If something already exists in the notebook, don't create it again. For example, you can already access to the data using the variables below:"
   ]
  },
  {
   "cell_type": "code",
   "execution_count": 91,
   "metadata": {},
   "outputs": [],
   "source": [
    "import pandas as pd\n",
    "import numpy as np\n",
    "import matplotlib.pyplot as plt\n",
    "import random\n",
    "\n",
    "\n",
    "movies_df = pd.read_csv(\"Data/movies.csv\")\n",
    "ratings_df = pd.read_csv(\"Data/ratings.csv\")\n",
    "tags_df = pd.read_csv(\"Data/tags.csv\")"
   ]
  },
  {
   "cell_type": "markdown",
   "metadata": {},
   "source": [
    "### Helper methods"
   ]
  },
  {
   "cell_type": "code",
   "execution_count": 81,
   "metadata": {},
   "outputs": [],
   "source": [
    "def getMovieGenres(movie_id):\n",
    "    movie_row = movies_df[movies_df['movieId'] == movie_id]\n",
    "\n",
    "    if not movie_row.empty:\n",
    "        genres_str = movie_row['genres'].iloc[0]\n",
    "        \n",
    "        genres_list = genres_str.split('|')\n",
    "        \n",
    "        return genres_list\n",
    "    else:\n",
    "        return []\n",
    "\n",
    "def get_movie_name(movie_id):\n",
    "    movie_row = movies_df[movies_df['movieId'] == movie_id]\n",
    "\n",
    "    if not movie_row.empty:\n",
    "        return movie_row['title'].iloc[0]\n",
    "    else:\n",
    "        return \"Movie not in the list\"\n",
    "\n",
    "\n",
    "def get_user_ratings(user_id):\n",
    "    user_ratings_df = ratings_df[ratings_df['userId'] == user_id]\n",
    "    \n",
    "    user_ratings = {}\n",
    "    \n",
    "    for index, row in user_ratings_df.iterrows():\n",
    "        movie_id = row['movieId']\n",
    "        rating = row['rating']\n",
    "        user_ratings[movie_id] = rating\n",
    "    \n",
    "    return user_ratings\n"
   ]
  },
  {
   "cell_type": "code",
   "execution_count": 66,
   "metadata": {},
   "outputs": [
    {
     "data": {
      "text/plain": [
       "['Adventure', 'Animation', 'Children', 'Comedy', 'Fantasy']"
      ]
     },
     "execution_count": 66,
     "metadata": {},
     "output_type": "execute_result"
    }
   ],
   "source": [
    "getMovieGenres(1)"
   ]
  },
  {
   "cell_type": "code",
   "execution_count": 80,
   "metadata": {},
   "outputs": [
    {
     "data": {
      "text/plain": [
       "{41.0: 3.0,\n",
       " 187.0: 3.0,\n",
       " 223.0: 4.0,\n",
       " 371.0: 3.0,\n",
       " 627.0: 3.0,\n",
       " 922.0: 4.0,\n",
       " 923.0: 5.0,\n",
       " 1037.0: 2.0,\n",
       " 1095.0: 4.0,\n",
       " 1198.0: 5.0,\n",
       " 1270.0: 5.0,\n",
       " 1674.0: 4.0,\n",
       " 1987.0: 2.0,\n",
       " 2011.0: 3.0,\n",
       " 2012.0: 4.0,\n",
       " 2023.0: 3.0,\n",
       " 2300.0: 5.0,\n",
       " 2877.0: 3.0,\n",
       " 2901.0: 2.0,\n",
       " 3173.0: 2.0,\n",
       " 3328.0: 3.0,\n",
       " 3735.0: 3.0,\n",
       " 4131.0: 1.0,\n",
       " 4558.0: 1.0,\n",
       " 4993.0: 5.0,\n",
       " 5218.0: 4.0,\n",
       " 5378.0: 3.0,\n",
       " 5445.0: 4.0,\n",
       " 5447.0: 4.0,\n",
       " 5451.0: 4.0,\n",
       " 5481.0: 5.0,\n",
       " 5507.0: 1.0,\n",
       " 5841.0: 1.0,\n",
       " 5843.0: 3.0,\n",
       " 5872.0: 3.0,\n",
       " 5890.0: 4.0,\n",
       " 5891.0: 1.0,\n",
       " 5893.0: 4.0,\n",
       " 5902.0: 5.0,\n",
       " 5952.0: 5.0,\n",
       " 5956.0: 4.0,\n",
       " 5962.0: 1.0,\n",
       " 5965.0: 4.0,\n",
       " 5988.0: 2.0,\n",
       " 6001.0: 4.0,\n",
       " 6044.0: 2.0}"
      ]
     },
     "execution_count": 80,
     "metadata": {},
     "output_type": "execute_result"
    }
   ],
   "source": [
    "get_user_ratings(9)"
   ]
  },
  {
   "cell_type": "markdown",
   "metadata": {},
   "source": [
    "### Analyzing the dataset\n",
    "We will start by plotting the number of evaluations (y axis) per movie(x axis)"
   ]
  },
  {
   "cell_type": "code",
   "execution_count": 17,
   "metadata": {},
   "outputs": [
    {
     "data": {
      "text/plain": [
       "<AxesSubplot:xlabel='index', ylabel='userId'>"
      ]
     },
     "execution_count": 17,
     "metadata": {},
     "output_type": "execute_result"
    },
    {
     "data": {
      "image/png": "[encoded data removed]",
      "text/plain": [
       "<Figure size 432x288 with 1 Axes>"
      ]
     },
     "metadata": {
      "needs_background": "light"
     },
     "output_type": "display_data"
    }
   ],
   "source": [
    "import seaborn as sns\n",
    "\n",
    "count_ratings_df = ratings_df[['userId','movieId']].groupby(['movieId']).count()\n",
    "count_ratings_df_ord = count_ratings_df.sort_values(by=\"userId\", ascending=False).reset_index().reset_index()\n",
    "sns.lineplot(data=count_ratings_df_ord, x='index', y='userId')"
   ]
  },
  {
   "cell_type": "markdown",
   "metadata": {},
   "source": [
    "### Individual recommendations\n",
    "The goal of a recsys is to predict whether a user will like or not a product based on the previous liked products of that same user\n"
   ]
  },
  {
   "cell_type": "code",
   "execution_count": null,
   "metadata": {},
   "outputs": [],
   "source": [
    "# Rated movies by some user. (Movie with id 1 has a rating of 5 and so on...) \n",
    "user_ratings = {\n",
    "    1: 5,\n",
    "    3: 3,\n",
    "    7: 5,\n",
    "    15: 4,\n",
    "    20: 2\n",
    "}"
   ]
  },
  {
   "cell_type": "markdown",
   "metadata": {},
   "source": [
    "#### Colaborative filtering\n",
    "Recommends items based on user behavior and preferences, finding similarities between users or items"
   ]
  },
  {
   "cell_type": "code",
   "execution_count": 56,
   "metadata": {},
   "outputs": [
    {
     "ename": "SyntaxError",
     "evalue": "incomplete input (3270687667.py, line 2)",
     "output_type": "error",
     "traceback": [
      "\u001b[1;36m  Input \u001b[1;32mIn [56]\u001b[1;36m\u001b[0m\n\u001b[1;33m    def individual_colaborative_filtering(user_ratings):\u001b[0m\n\u001b[1;37m                                                        ^\u001b[0m\n\u001b[1;31mSyntaxError\u001b[0m\u001b[1;31m:\u001b[0m incomplete input\n"
     ]
    }
   ],
   "source": [
    "def individual_colaborative_filtering(user_ratings, movieId):\n",
    "    \n",
    "    "
   ]
  },
  {
   "cell_type": "markdown",
   "metadata": {},
   "source": [
    "#### Content based\n",
    "Recommends items similar to those a user has shown interest in, based on item features.\n"
   ]
  },
  {
   "cell_type": "code",
   "execution_count": 73,
   "metadata": {},
   "outputs": [],
   "source": [
    "def individual_content_based(user_ratings, movie_id):\n",
    "    return score"
   ]
  },
  {
   "cell_type": "code",
   "execution_count": 95,
   "metadata": {},
   "outputs": [],
   "source": [
    "def test_individual_content_based(user_id):\n",
    "    rated_movies = get_user_ratings(user_id)\n",
    "    actual_ratings = []  # List to store actual ratings\n",
    "    predicted_ratings = []  # List to store predicted ratings\n",
    "\n",
    "    for rated_movie_id, rating in rated_movies.items():\n",
    "        # Makes a copy of the user ratings dictionary excluding the current item\n",
    "        filtered_user_ratings = {movie_id: user_rating for movie_id, user_rating in rated_movies.items() if movie_id != rated_movie_id}\n",
    "\n",
    "        movie_name = get_movie_name(rated_movie_id)\n",
    "\n",
    "        prediction = individual_content_based(filtered_user_ratings, rated_movie_id)\n",
    "\n",
    "        actual_ratings.append(rating)\n",
    "        predicted_ratings.append(prediction)\n",
    "\n",
    "        # prediction and actual rating\n",
    "        # print(f\"Prediction for {movie_name} = {prediction}, Actual rating = {rating}\")\n",
    "\n",
    "    # Calculate statistics\n",
    "    actual_ratings = np.array(actual_ratings)\n",
    "    predicted_ratings = np.array(predicted_ratings)\n",
    "    prediction_difference = actual_ratings - predicted_ratings\n",
    "    avg_prediction_difference = np.mean(prediction_difference)\n",
    "    std_deviation_difference = np.std(prediction_difference)\n",
    "\n",
    "    plt.figure(figsize=(10, 6))\n",
    "    plt.scatter(actual_ratings, predicted_ratings, c='b', marker='o')\n",
    "    plt.xlabel('Actual Ratings')\n",
    "    plt.ylabel('Predicted Ratings')\n",
    "    plt.title('Actual vs. Predicted Ratings')\n",
    "    plt.grid(True)\n",
    "    plt.show()\n",
    "\n",
    "    print(f\"Average Prediction Difference: {avg_prediction_difference}\")\n",
    "    print(f\"Standard Deviation of Prediction Difference: {std_deviation_difference}\")\n"
   ]
  },
  {
   "cell_type": "code",
   "execution_count": 94,
   "metadata": {},
   "outputs": [
    {
     "data": {
      "image/png": "[encoded data removed]",
      "text/plain": [
       "<Figure size 720x432 with 1 Axes>"
      ]
     },
     "metadata": {
      "needs_background": "light"
     },
     "output_type": "display_data"
    },
    {
     "name": "stdout",
     "output_type": "stream",
     "text": [
      "Average Prediction Difference: -743.9008620689655\n",
      "Standard Deviation of Prediction Difference: 296.8321155583456\n"
     ]
    }
   ],
   "source": [
    "test_individual_content_based(1)"
   ]
  },
  {
   "cell_type": "markdown",
   "metadata": {},
   "source": [
    "### Group recommendations"
   ]
  },
  {
   "cell_type": "code",
   "execution_count": null,
   "metadata": {},
   "outputs": [],
   "source": [
    "#Use the previous format for the user ratings. (In this case, a list of dictionaries)\n",
    "def groupal_recommendations(list_user_ratings):\n",
    "    "
   ]
  },
  {
   "cell_type": "markdown",
   "metadata": {},
   "source": [
    "### Explanation of the recommendations made by the algorithms\n",
    "Explain why your algorithm recommends those items to users. Note: easier to do with content based recsys"
   ]
  },
  {
   "cell_type": "markdown",
   "metadata": {},
   "source": []
  },
  {
   "cell_type": "markdown",
   "metadata": {},
   "source": [
    "### Evaluation of the resulting explanations.\n",
    "The method below receives a user id and returns the list of movies rated by the user and whether it is relevant for them (The user scored  3 or more). We will use it as a metric to evaluate our recsys"
   ]
  },
  {
   "cell_type": "code",
   "execution_count": 46,
   "metadata": {},
   "outputs": [],
   "source": [
    "def get_user_movie_relevance(user_id, ratings_df, movies_df):\n",
    "    user_ratings = ratings_df[ratings_df['userId'] == user_id]\n",
    "\n",
    "    # Extract movie IDs and their corresponding relevance (1 for 3 stars or more, 0 for less than 3 stars)\n",
    "    movie_ids = user_ratings['movieId'].tolist()\n",
    "    relevance = [1 if rating >= 3 else 0 for rating in user_ratings['rating']]\n",
    "\n",
    "    return movie_ids, relevance"
   ]
  },
  {
   "cell_type": "code",
   "execution_count": 53,
   "metadata": {},
   "outputs": [
    {
     "data": {
      "text/html": [
       "<div>\n",
       "<style scoped>\n",
       "    .dataframe tbody tr th:only-of-type {\n",
       "        vertical-align: middle;\n",
       "    }\n",
       "\n",
       "    .dataframe tbody tr th {\n",
       "        vertical-align: top;\n",
       "    }\n",
       "\n",
       "    .dataframe thead th {\n",
       "        text-align: right;\n",
       "    }\n",
       "</style>\n",
       "<table border=\"1\" class=\"dataframe\">\n",
       "  <thead>\n",
       "    <tr style=\"text-align: right;\">\n",
       "      <th></th>\n",
       "      <th>movieId</th>\n",
       "      <th>Relevant</th>\n",
       "    </tr>\n",
       "  </thead>\n",
       "  <tbody>\n",
       "    <tr>\n",
       "      <th>0</th>\n",
       "      <td>21</td>\n",
       "      <td>1</td>\n",
       "    </tr>\n",
       "    <tr>\n",
       "      <th>1</th>\n",
       "      <td>32</td>\n",
       "      <td>0</td>\n",
       "    </tr>\n",
       "    <tr>\n",
       "      <th>2</th>\n",
       "      <td>45</td>\n",
       "      <td>1</td>\n",
       "    </tr>\n",
       "    <tr>\n",
       "      <th>3</th>\n",
       "      <td>47</td>\n",
       "      <td>0</td>\n",
       "    </tr>\n",
       "    <tr>\n",
       "      <th>4</th>\n",
       "      <td>52</td>\n",
       "      <td>1</td>\n",
       "    </tr>\n",
       "    <tr>\n",
       "      <th>...</th>\n",
       "      <td>...</td>\n",
       "      <td>...</td>\n",
       "    </tr>\n",
       "    <tr>\n",
       "      <th>211</th>\n",
       "      <td>4765</td>\n",
       "      <td>1</td>\n",
       "    </tr>\n",
       "    <tr>\n",
       "      <th>212</th>\n",
       "      <td>4881</td>\n",
       "      <td>1</td>\n",
       "    </tr>\n",
       "    <tr>\n",
       "      <th>213</th>\n",
       "      <td>4896</td>\n",
       "      <td>1</td>\n",
       "    </tr>\n",
       "    <tr>\n",
       "      <th>214</th>\n",
       "      <td>4902</td>\n",
       "      <td>1</td>\n",
       "    </tr>\n",
       "    <tr>\n",
       "      <th>215</th>\n",
       "      <td>4967</td>\n",
       "      <td>1</td>\n",
       "    </tr>\n",
       "  </tbody>\n",
       "</table>\n",
       "<p>216 rows × 2 columns</p>\n",
       "</div>"
      ],
      "text/plain": [
       "     movieId  Relevant\n",
       "0         21         1\n",
       "1         32         0\n",
       "2         45         1\n",
       "3         47         0\n",
       "4         52         1\n",
       "..       ...       ...\n",
       "211     4765         1\n",
       "212     4881         1\n",
       "213     4896         1\n",
       "214     4902         1\n",
       "215     4967         1\n",
       "\n",
       "[216 rows x 2 columns]"
      ]
     },
     "metadata": {},
     "output_type": "display_data"
    }
   ],
   "source": [
    "user_id_to_find = 4\n",
    "movie_ids, relevance = get_user_movie_relevance(user_id_to_find, ratings_df, movies_df)\n",
    "user_movie_relevance_df = pd.DataFrame({'movieId': movie_ids, 'Relevant': relevance})\n",
    "\n",
    "display(user_movie_relevance_df)\n"
   ]
  },
  {
   "cell_type": "code",
   "execution_count": 58,
   "metadata": {},
   "outputs": [
    {
     "ename": "NameError",
     "evalue": "name 'individual_colaborative_filtering' is not defined",
     "output_type": "error",
     "traceback": [
      "\u001b[1;31m---------------------------------------------------------------------------\u001b[0m",
      "\u001b[1;31mNameError\u001b[0m                                 Traceback (most recent call last)",
      "\u001b[1;32mc:\\Users\\Alvaro\\Documents\\GitHub\\RecommenderSystems\\recommender.ipynb Cell 21\u001b[0m in \u001b[0;36m<cell line: 11>\u001b[1;34m()\u001b[0m\n\u001b[0;32m      <a href='vscode-notebook-cell:/c%3A/Users/Alvaro/Documents/GitHub/RecommenderSystems/recommender.ipynb#X30sZmlsZQ%3D%3D?line=5'>6</a>\u001b[0m train_df, test_df \u001b[39m=\u001b[39m train_test_split(ratings_df, test_size\u001b[39m=\u001b[39m\u001b[39m0.2\u001b[39m)\n\u001b[0;32m      <a href='vscode-notebook-cell:/c%3A/Users/Alvaro/Documents/GitHub/RecommenderSystems/recommender.ipynb#X30sZmlsZQ%3D%3D?line=8'>9</a>\u001b[0m test_df[\u001b[39m'\u001b[39m\u001b[39mrelevant\u001b[39m\u001b[39m'\u001b[39m] \u001b[39m=\u001b[39m (test_df[\u001b[39m'\u001b[39m\u001b[39mrating\u001b[39m\u001b[39m'\u001b[39m] \u001b[39m>\u001b[39m\u001b[39m=\u001b[39m \u001b[39m3\u001b[39m)\u001b[39m.\u001b[39mastype(\u001b[39mint\u001b[39m)\n\u001b[1;32m---> <a href='vscode-notebook-cell:/c%3A/Users/Alvaro/Documents/GitHub/RecommenderSystems/recommender.ipynb#X30sZmlsZQ%3D%3D?line=10'>11</a>\u001b[0m test_df[\u001b[39m'\u001b[39m\u001b[39mpredicted_relevant\u001b[39m\u001b[39m'\u001b[39m] \u001b[39m=\u001b[39m individual_colaborative_filtering(test_df)\n\u001b[0;32m     <a href='vscode-notebook-cell:/c%3A/Users/Alvaro/Documents/GitHub/RecommenderSystems/recommender.ipynb#X30sZmlsZQ%3D%3D?line=12'>13</a>\u001b[0m y_test \u001b[39m=\u001b[39m \u001b[39mlist\u001b[39m(test_df[\u001b[39m'\u001b[39m\u001b[39mrelevant\u001b[39m\u001b[39m'\u001b[39m])\n\u001b[0;32m     <a href='vscode-notebook-cell:/c%3A/Users/Alvaro/Documents/GitHub/RecommenderSystems/recommender.ipynb#X30sZmlsZQ%3D%3D?line=13'>14</a>\u001b[0m y_pred \u001b[39m=\u001b[39m \u001b[39mlist\u001b[39m(test_df[\u001b[39m'\u001b[39m\u001b[39mpredicted_relevant\u001b[39m\u001b[39m'\u001b[39m])\n",
      "\u001b[1;31mNameError\u001b[0m: name 'individual_colaborative_filtering' is not defined"
     ]
    }
   ],
   "source": [
    "from sklearn.feature_extraction.text import TfidfVectorizer\n",
    "from sklearn.neighbors import KNeighborsClassifier \n",
    "from sklearn.model_selection import train_test_split\n",
    "from sklearn.metrics import precision_recall_fscore_support\n",
    "\n",
    "train_df, test_df = train_test_split(ratings_df, test_size=0.2)\n",
    "\n",
    "\n",
    "test_df['relevant'] = (test_df['rating'] >= 3).astype(int)\n",
    "\n",
    "test_userId_movieId = test_df[['userId'], ['movieId']]\n",
    "test_df['predicted_relevant'] = predict(test_userId_movieId)\n",
    "\n",
    "y_test = list(test_df['relevant'])\n",
    "y_pred = list(test_df['predicted_relevant'])\n",
    "precision, recall, fscore, _ = precision_recall_fscore_support(y_test, y_pred, average=\"binary\")\n",
    "\n",
    "print(\"Precision:\", precision)\n",
    "print(\"Recall:\", recall)\n",
    "print(\"F1-score:\", fscore)\n"
   ]
  }
 ],
 "metadata": {
  "kernelspec": {
   "display_name": "Python 3.10.5 64-bit",
   "language": "python",
   "name": "python3"
  },
  "language_info": {
   "codemirror_mode": {
    "name": "ipython",
    "version": 3
   },
   "file_extension": ".py",
   "mimetype": "text/x-python",
   "name": "python",
   "nbconvert_exporter": "python",
   "pygments_lexer": "ipython3",
   "version": "3.10.5"
  },
  "orig_nbformat": 4,
  "vscode": {
   "interpreter": {
    "hash": "86a7600eabecf3dbcbf5a60340165768a3f6b7991c3d2be0d9a303a25788bd38"
   }
  }
 },
 "nbformat": 4,
 "nbformat_minor": 2
}
