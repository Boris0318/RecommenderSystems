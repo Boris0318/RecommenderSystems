{
 "cells": [
  {
   "cell_type": "markdown",
   "metadata": {},
   "source": [
    "## Recommender systems group assignment\n",
    "Everyone add their code to this notebook and make sure its well documented! If something already exists in the notebook, don't create it again. For example, you can already access to the data using the variables below:"
   ]
  },
  {
   "cell_type": "code",
   "execution_count": 19,
   "metadata": {},
   "outputs": [],
   "source": [
    "import pandas as pd\n",
    "\n",
    "links_df = pd.read_csv(\"Data/links.csv\")\n",
    "movies_df = pd.read_csv(\"Data/movies.csv\")\n",
    "ratings_df = pd.read_csv(\"Data/ratings.csv\")"
   ]
  },
  {
   "cell_type": "markdown",
   "metadata": {},
   "source": [
    "#### Helper methods\n",
    "There are some helper methods already implemented, but feel free to add the ones you would like"
   ]
  },
  {
   "cell_type": "code",
   "execution_count": 30,
   "metadata": {},
   "outputs": [],
   "source": [
    "def get_user_rated_movies(user_id):\n",
    "    user_ratings = ratings_df[ratings_df['userId'] == user_id]\n",
    "\n",
    "    user_liked_movies = pd.merge(user_ratings, movies_df, on='movieId')[['title', 'rating', 'movieId']]\n",
    "\n",
    "    print(f\"Movies liked by User {user_id}:\")\n",
    "    \n",
    "    return user_liked_movies\n",
    "\n",
    "\n",
    "def get_common_movies(user_id_1, user_id_2):\n",
    "    \"\"\"\n",
    "    Returns the movies that two users rated in a similar way. (Th is the same or differs by one)\n",
    "    \"\"\"\n",
    "    user_ratings_1 = ratings_df[ratings_df['userId'] == user_id_1]\n",
    "    user_ratings_2 = ratings_df[ratings_df['userId'] == user_id_2]\n",
    "\n",
    "    # Get common movies\n",
    "    common_movies = pd.merge(user_ratings_1, user_ratings_2, on='movieId', suffixes=('_user1', '_user2'))\n",
    "\n",
    "    # Filter common movies where the ratings are similar\n",
    "    common_movies = common_movies[\n",
    "        ((common_movies['rating_user1'] == common_movies['rating_user2']) |\n",
    "         (common_movies['rating_user1'] - common_movies['rating_user2']).abs() == 1)\n",
    "    ]\n",
    "    common_movies_details = pd.merge(common_movies, movies_df, on='movieId')[['title', 'rating_user1', 'rating_user2', 'movieId']]\n",
    "\n",
    "    print(f\"Common movies rated similarly by User {user_id_1} and User {user_id_2}:\")\n",
    "    \n",
    "    return common_movies_details\n",
    "\n",
    "    "
   ]
  },
  {
   "cell_type": "code",
   "execution_count": 28,
   "metadata": {},
   "outputs": [
    {
     "name": "stdout",
     "output_type": "stream",
     "text": [
      "Common movies rated similarly by User 1 and User 5:\n"
     ]
    },
    {
     "data": {
      "text/html": [
       "<div>\n",
       "<style scoped>\n",
       "    .dataframe tbody tr th:only-of-type {\n",
       "        vertical-align: middle;\n",
       "    }\n",
       "\n",
       "    .dataframe tbody tr th {\n",
       "        vertical-align: top;\n",
       "    }\n",
       "\n",
       "    .dataframe thead th {\n",
       "        text-align: right;\n",
       "    }\n",
       "</style>\n",
       "<table border=\"1\" class=\"dataframe\">\n",
       "  <thead>\n",
       "    <tr style=\"text-align: right;\">\n",
       "      <th></th>\n",
       "      <th>title</th>\n",
       "      <th>rating_user1</th>\n",
       "      <th>rating_user2</th>\n",
       "      <th>movieId</th>\n",
       "    </tr>\n",
       "  </thead>\n",
       "  <tbody>\n",
       "    <tr>\n",
       "      <th>0</th>\n",
       "      <td>Toy Story (1995)</td>\n",
       "      <td>4.0</td>\n",
       "      <td>4.0</td>\n",
       "      <td>1</td>\n",
       "    </tr>\n",
       "    <tr>\n",
       "      <th>1</th>\n",
       "      <td>Usual Suspects, The (1995)</td>\n",
       "      <td>5.0</td>\n",
       "      <td>4.0</td>\n",
       "      <td>50</td>\n",
       "    </tr>\n",
       "    <tr>\n",
       "      <th>2</th>\n",
       "      <td>Braveheart (1995)</td>\n",
       "      <td>4.0</td>\n",
       "      <td>4.0</td>\n",
       "      <td>110</td>\n",
       "    </tr>\n",
       "    <tr>\n",
       "      <th>3</th>\n",
       "      <td>Pulp Fiction (1994)</td>\n",
       "      <td>3.0</td>\n",
       "      <td>5.0</td>\n",
       "      <td>296</td>\n",
       "    </tr>\n",
       "    <tr>\n",
       "      <th>4</th>\n",
       "      <td>Stargate (1994)</td>\n",
       "      <td>3.0</td>\n",
       "      <td>2.0</td>\n",
       "      <td>316</td>\n",
       "    </tr>\n",
       "    <tr>\n",
       "      <th>5</th>\n",
       "      <td>Clear and Present Danger (1994)</td>\n",
       "      <td>4.0</td>\n",
       "      <td>3.0</td>\n",
       "      <td>349</td>\n",
       "    </tr>\n",
       "    <tr>\n",
       "      <th>6</th>\n",
       "      <td>Mask, The (1994)</td>\n",
       "      <td>4.0</td>\n",
       "      <td>4.0</td>\n",
       "      <td>367</td>\n",
       "    </tr>\n",
       "    <tr>\n",
       "      <th>7</th>\n",
       "      <td>Fugitive, The (1993)</td>\n",
       "      <td>5.0</td>\n",
       "      <td>4.0</td>\n",
       "      <td>457</td>\n",
       "    </tr>\n",
       "    <tr>\n",
       "      <th>8</th>\n",
       "      <td>Schindler's List (1993)</td>\n",
       "      <td>5.0</td>\n",
       "      <td>5.0</td>\n",
       "      <td>527</td>\n",
       "    </tr>\n",
       "    <tr>\n",
       "      <th>9</th>\n",
       "      <td>Dances with Wolves (1990)</td>\n",
       "      <td>4.0</td>\n",
       "      <td>5.0</td>\n",
       "      <td>590</td>\n",
       "    </tr>\n",
       "    <tr>\n",
       "      <th>10</th>\n",
       "      <td>Batman (1989)</td>\n",
       "      <td>4.0</td>\n",
       "      <td>3.0</td>\n",
       "      <td>592</td>\n",
       "    </tr>\n",
       "    <tr>\n",
       "      <th>11</th>\n",
       "      <td>Pinocchio (1940)</td>\n",
       "      <td>5.0</td>\n",
       "      <td>5.0</td>\n",
       "      <td>596</td>\n",
       "    </tr>\n",
       "    <tr>\n",
       "      <th>12</th>\n",
       "      <td>Fargo (1996)</td>\n",
       "      <td>5.0</td>\n",
       "      <td>3.0</td>\n",
       "      <td>608</td>\n",
       "    </tr>\n",
       "  </tbody>\n",
       "</table>\n",
       "</div>"
      ],
      "text/plain": [
       "                              title  rating_user1  rating_user2  movieId\n",
       "0                  Toy Story (1995)           4.0           4.0        1\n",
       "1        Usual Suspects, The (1995)           5.0           4.0       50\n",
       "2                 Braveheart (1995)           4.0           4.0      110\n",
       "3               Pulp Fiction (1994)           3.0           5.0      296\n",
       "4                   Stargate (1994)           3.0           2.0      316\n",
       "5   Clear and Present Danger (1994)           4.0           3.0      349\n",
       "6                  Mask, The (1994)           4.0           4.0      367\n",
       "7              Fugitive, The (1993)           5.0           4.0      457\n",
       "8           Schindler's List (1993)           5.0           5.0      527\n",
       "9         Dances with Wolves (1990)           4.0           5.0      590\n",
       "10                    Batman (1989)           4.0           3.0      592\n",
       "11                 Pinocchio (1940)           5.0           5.0      596\n",
       "12                     Fargo (1996)           5.0           3.0      608"
      ]
     },
     "execution_count": 28,
     "metadata": {},
     "output_type": "execute_result"
    }
   ],
   "source": [
    "get_common_movies(1, 5)"
   ]
  },
  {
   "cell_type": "markdown",
   "metadata": {},
   "source": [
    "### Individual recommendations\n",
    "Use the following format to write the methods!!"
   ]
  },
  {
   "cell_type": "code",
   "execution_count": null,
   "metadata": {},
   "outputs": [],
   "source": [
    "# Rated movies by some user. (Movie with id 1 has a rating of 5 and so on...) \n",
    "user_ratings = {\n",
    "    1: 5,\n",
    "    3: 3,\n",
    "    7: 5,\n",
    "    15: 4,\n",
    "    20: 2\n",
    "}"
   ]
  },
  {
   "cell_type": "markdown",
   "metadata": {},
   "source": [
    "#### Colaborative filtering\n",
    "Recommends items based on user behavior and preferences, finding similarities between users or items"
   ]
  },
  {
   "cell_type": "code",
   "execution_count": null,
   "metadata": {},
   "outputs": [],
   "source": [
    "#Use the previous format for the user ratings\n",
    "def individual_colaborative_filtering(user_ratings):"
   ]
  },
  {
   "cell_type": "markdown",
   "metadata": {},
   "source": [
    "#### Content based\n",
    "Recommends items similar to those a user has shown interest in, based on item features.\n"
   ]
  },
  {
   "cell_type": "code",
   "execution_count": null,
   "metadata": {},
   "outputs": [],
   "source": [
    "#Use the previous format for the user ratings\n",
    "def individual_content_based(user_ratings):\n",
    "    "
   ]
  },
  {
   "cell_type": "markdown",
   "metadata": {},
   "source": [
    "### Group recommendations"
   ]
  },
  {
   "cell_type": "code",
   "execution_count": null,
   "metadata": {},
   "outputs": [],
   "source": [
    "#Use the previous format for the user ratings. (In this case, a list of dictionaries)\n",
    "def groupal_recommendations(list_user_ratings):"
   ]
  },
  {
   "cell_type": "markdown",
   "metadata": {},
   "source": [
    "### Explanation of the recommendations made by the algorithms\n",
    "Explain why your algorithm recommends those items to users. Note: easier to do with content based recsys"
   ]
  },
  {
   "cell_type": "markdown",
   "metadata": {},
   "source": []
  },
  {
   "cell_type": "markdown",
   "metadata": {},
   "source": [
    "### Evaluation of the resulting explanations.\n",
    "I dont know what they mean by this"
   ]
  }
 ],
 "metadata": {
  "kernelspec": {
   "display_name": "Python 3.10.5 64-bit",
   "language": "python",
   "name": "python3"
  },
  "language_info": {
   "codemirror_mode": {
    "name": "ipython",
    "version": 3
   },
   "file_extension": ".py",
   "mimetype": "text/x-python",
   "name": "python",
   "nbconvert_exporter": "python",
   "pygments_lexer": "ipython3",
   "version": "3.10.5"
  },
  "orig_nbformat": 4,
  "vscode": {
   "interpreter": {
    "hash": "86a7600eabecf3dbcbf5a60340165768a3f6b7991c3d2be0d9a303a25788bd38"
   }
  }
 },
 "nbformat": 4,
 "nbformat_minor": 2
}
