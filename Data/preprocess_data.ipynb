{
 "cells": [
  {
   "cell_type": "code",
   "execution_count": 2,
   "metadata": {},
   "outputs": [],
   "source": [
    "import pandas as pd"
   ]
  },
  {
   "cell_type": "code",
   "execution_count": 2,
   "metadata": {},
   "outputs": [
    {
     "name": "stdout",
     "output_type": "stream",
     "text": [
      "          movieId  tagId  relevance\n",
      "1035            1   1036    0.99925\n",
      "243             1    244    0.99850\n",
      "785             1    786    0.99600\n",
      "588             1    589    0.99075\n",
      "63              1     64    0.98575\n",
      "...           ...    ...        ...\n",
      "11708931   131170    292    0.69975\n",
      "11709689   131170   1050    0.69600\n",
      "11709349   131170    710    0.69200\n",
      "11709610   131170    971    0.67775\n",
      "11708698   131170     59    0.67425\n",
      "\n",
      "[212843 rows x 3 columns]\n"
     ]
    }
   ],
   "source": [
    "\n",
    "\n",
    "genome_scores = pd.read_csv('genome_scores.csv')\n",
    "\n",
    "relevance_threshold = 0.67\n",
    "\n",
    "filtered_genome_scores = genome_scores[genome_scores['relevance'] >= relevance_threshold]\n",
    "\n",
    "filtered_genome_scores.to_csv('filtered_genome_scores.csv', index=False)\n",
    "\n",
    "sorted_genome_scores = filtered_genome_scores.sort_values(by=['movieId', 'relevance'], ascending=[True, False])\n",
    "\n",
    "sorted_genome_scores.to_csv('sorted_genome_scores.csv', index=False)\n",
    "\n",
    "print(sorted_genome_scores)\n",
    "\n"
   ]
  },
  {
   "cell_type": "code",
   "execution_count": 3,
   "metadata": {},
   "outputs": [
    {
     "name": "stdout",
     "output_type": "stream",
     "text": [
      "         userId  movieId  rating\n",
      "0             1        2     3.5\n",
      "1             1       29     3.5\n",
      "2             1       32     3.5\n",
      "3             1       47     3.5\n",
      "4             1       50     3.5\n",
      "...         ...      ...     ...\n",
      "1476396   10000      708     5.0\n",
      "1476397   10000      719     5.0\n",
      "1476398   10000      736     5.0\n",
      "1476399   10000      780     5.0\n",
      "1476400   10000      788     1.0\n",
      "\n",
      "[1476401 rows x 3 columns]\n"
     ]
    }
   ],
   "source": [
    "ratings = pd.read_csv('rating.csv')\n",
    "\n",
    "first_10k_users = ratings['userId'].unique()[:10000]\n",
    "\n",
    "filtered_ratings = ratings[ratings['userId'].isin(first_10k_users)]\n",
    "\n",
    "filtered_ratings = filtered_ratings.drop(columns=['timestamp'])\n",
    "\n",
    "filtered_ratings.to_csv('filtered_ratings.csv', index=False)\n",
    "\n",
    "print(filtered_ratings)\n"
   ]
  },
  {
   "cell_type": "code",
   "execution_count": 4,
   "metadata": {},
   "outputs": [
    {
     "name": "stdout",
     "output_type": "stream",
     "text": [
      "        userId  movieId            tag\n",
      "0           18     4141    Mark Waters\n",
      "1           65      208      dark hero\n",
      "2           65      353      dark hero\n",
      "3           65      521  noir thriller\n",
      "4           65      592      dark hero\n",
      "...        ...      ...            ...\n",
      "465559  138446    55999        dragged\n",
      "465560  138446    55999  Jason Bateman\n",
      "465561  138446    55999         quirky\n",
      "465562  138446    55999            sad\n",
      "465563  138472      923  rise to power\n",
      "\n",
      "[465564 rows x 3 columns]\n"
     ]
    }
   ],
   "source": [
    "tags = pd.read_csv('tag.csv')\n",
    "\n",
    "first_10k_users = tags['userId'].unique()[:10000]\n",
    "\n",
    "filtered_tags = tags[tags['userId'].isin(first_10k_users)]\n",
    "\n",
    "filtered_tags = filtered_tags.drop(columns=['timestamp'])\n",
    "\n",
    "filtered_tags.to_csv('filtered_tags.csv', index=False)\n",
    "\n",
    "print(filtered_tags)\n"
   ]
  },
  {
   "cell_type": "code",
   "execution_count": 4,
   "metadata": {},
   "outputs": [],
   "source": [
    "ratings_df = pd.read_csv('filtered_ratings.csv')\n",
    "movies_df = pd.read_csv('movies.csv')\n",
    "valid_movie_ids = movies_df['movieId'].unique()\n",
    "filtered_ratings_df = ratings_df[ratings_df['movieId'].isin(valid_movie_ids)]\n",
    "filtered_ratings_df.to_csv('filtered_ratings.csv', index=False)\n"
   ]
  }
 ],
 "metadata": {
  "kernelspec": {
   "display_name": "Python 3",
   "language": "python",
   "name": "python3"
  },
  "language_info": {
   "codemirror_mode": {
    "name": "ipython",
    "version": 3
   },
   "file_extension": ".py",
   "mimetype": "text/x-python",
   "name": "python",
   "nbconvert_exporter": "python",
   "pygments_lexer": "ipython3",
   "version": "3.8.8"
  },
  "vscode": {
   "interpreter": {
    "hash": "22f13262d230a7eb2c88ed6f82439cb58d0140fb72e1eb566319f7b56c83025d"
   }
  }
 },
 "nbformat": 4,
 "nbformat_minor": 2
}
