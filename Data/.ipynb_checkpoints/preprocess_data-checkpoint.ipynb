{
 "cells": [
  {
   "cell_type": "code",
   "execution_count": 2,
   "metadata": {},
   "outputs": [
    {
     "name": "stdout",
     "output_type": "stream",
     "text": [
      "Collecting pandasNote: you may need to restart the kernel to use updated packages.\n",
      "\n",
      "  Obtaining dependency information for pandas from https://files.pythonhosted.org/packages/2d/5e/9213ea10ac473e2437dc2cb17323ddc0999997e2713d6a0b683b10773994/pandas-2.1.1-cp311-cp311-win_amd64.whl.metadata\n",
      "  Downloading pandas-2.1.1-cp311-cp311-win_amd64.whl.metadata (18 kB)\n",
      "Collecting numpy>=1.23.2 (from pandas)\n",
      "  Obtaining dependency information for numpy>=1.23.2 from https://files.pythonhosted.org/packages/93/fd/3f826c6d15d3bdcf65b8031e4835c52b7d9c45add25efa2314b53850e1a2/numpy-1.26.0-cp311-cp311-win_amd64.whl.metadata\n",
      "  Downloading numpy-1.26.0-cp311-cp311-win_amd64.whl.metadata (61 kB)\n",
      "     ---------------------------------------- 0.0/61.1 kB ? eta -:--:--\n",
      "     ------ --------------------------------- 10.2/61.1 kB ? eta -:--:--\n",
      "     -------------------------------------- 61.1/61.1 kB 820.0 kB/s eta 0:00:00\n",
      "Requirement already satisfied: python-dateutil>=2.8.2 in c:\\users\\alvaro\\appdata\\roaming\\python\\python311\\site-packages (from pandas) (2.8.2)\n",
      "Collecting pytz>=2020.1 (from pandas)\n",
      "  Obtaining dependency information for pytz>=2020.1 from https://files.pythonhosted.org/packages/32/4d/aaf7eff5deb402fd9a24a1449a8119f00d74ae9c2efa79f8ef9994261fc2/pytz-2023.3.post1-py2.py3-none-any.whl.metadata\n",
      "  Downloading pytz-2023.3.post1-py2.py3-none-any.whl.metadata (22 kB)\n",
      "Collecting tzdata>=2022.1 (from pandas)\n",
      "  Using cached tzdata-2023.3-py2.py3-none-any.whl (341 kB)\n",
      "Requirement already satisfied: six>=1.5 in c:\\users\\alvaro\\appdata\\roaming\\python\\python311\\site-packages (from python-dateutil>=2.8.2->pandas) (1.16.0)\n",
      "Downloading pandas-2.1.1-cp311-cp311-win_amd64.whl (10.6 MB)\n",
      "   ---------------------------------------- 0.0/10.6 MB ? eta -:--:--\n",
      "    --------------------------------------- 0.1/10.6 MB 4.3 MB/s eta 0:00:03\n",
      "   - -------------------------------------- 0.4/10.6 MB 4.1 MB/s eta 0:00:03\n",
      "   -- ------------------------------------- 0.8/10.6 MB 5.3 MB/s eta 0:00:02\n",
      "   ---- ----------------------------------- 1.2/10.6 MB 6.6 MB/s eta 0:00:02\n",
      "   ------ --------------------------------- 1.7/10.6 MB 7.0 MB/s eta 0:00:02\n",
      "   ------- -------------------------------- 2.1/10.6 MB 7.4 MB/s eta 0:00:02\n",
      "   --------- ------------------------------ 2.6/10.6 MB 7.8 MB/s eta 0:00:02\n",
      "   ----------- ---------------------------- 2.9/10.6 MB 7.8 MB/s eta 0:00:01\n",
      "   ------------ --------------------------- 3.4/10.6 MB 8.0 MB/s eta 0:00:01\n",
      "   -------------- ------------------------- 3.9/10.6 MB 8.2 MB/s eta 0:00:01\n",
      "   ---------------- ----------------------- 4.3/10.6 MB 8.3 MB/s eta 0:00:01\n",
      "   ----------------- ---------------------- 4.7/10.6 MB 8.4 MB/s eta 0:00:01\n",
      "   ------------------- -------------------- 5.2/10.6 MB 8.5 MB/s eta 0:00:01\n",
      "   -------------------- ------------------- 5.5/10.6 MB 8.4 MB/s eta 0:00:01\n",
      "   ---------------------- ----------------- 5.9/10.6 MB 8.4 MB/s eta 0:00:01\n",
      "   ----------------------- ---------------- 6.4/10.6 MB 8.7 MB/s eta 0:00:01\n",
      "   ------------------------- -------------- 6.8/10.6 MB 8.5 MB/s eta 0:00:01\n",
      "   --------------------------- ------------ 7.2/10.6 MB 8.7 MB/s eta 0:00:01\n",
      "   ---------------------------- ----------- 7.6/10.6 MB 8.7 MB/s eta 0:00:01\n",
      "   ------------------------------ --------- 8.1/10.6 MB 8.8 MB/s eta 0:00:01\n",
      "   -------------------------------- ------- 8.6/10.6 MB 8.8 MB/s eta 0:00:01\n",
      "   --------------------------------- ------ 9.0/10.6 MB 8.9 MB/s eta 0:00:01\n",
      "   ----------------------------------- ---- 9.5/10.6 MB 8.9 MB/s eta 0:00:01\n",
      "   ------------------------------------- -- 9.9/10.6 MB 8.9 MB/s eta 0:00:01\n",
      "   -------------------------------------- - 10.3/10.6 MB 9.0 MB/s eta 0:00:01\n",
      "   ---------------------------------------  10.6/10.6 MB 9.2 MB/s eta 0:00:01\n",
      "   ---------------------------------------- 10.6/10.6 MB 9.0 MB/s eta 0:00:00\n",
      "Downloading numpy-1.26.0-cp311-cp311-win_amd64.whl (15.8 MB)\n",
      "   ---------------------------------------- 0.0/15.8 MB ? eta -:--:--\n",
      "    --------------------------------------- 0.3/15.8 MB 10.6 MB/s eta 0:00:02\n",
      "   -- ------------------------------------- 0.9/15.8 MB 11.7 MB/s eta 0:00:02\n",
      "   --- ------------------------------------ 1.5/15.8 MB 12.0 MB/s eta 0:00:02\n",
      "   ----- ---------------------------------- 2.0/15.8 MB 11.4 MB/s eta 0:00:02\n",
      "   ------ --------------------------------- 2.4/15.8 MB 10.9 MB/s eta 0:00:02\n",
      "   ------- -------------------------------- 2.8/15.8 MB 10.6 MB/s eta 0:00:02\n",
      "   -------- ------------------------------- 3.2/15.8 MB 10.3 MB/s eta 0:00:02\n",
      "   --------- ------------------------------ 3.6/15.8 MB 10.1 MB/s eta 0:00:02\n",
      "   ---------- ----------------------------- 4.0/15.8 MB 9.8 MB/s eta 0:00:02\n",
      "   ----------- ---------------------------- 4.5/15.8 MB 9.8 MB/s eta 0:00:02\n",
      "   ------------ --------------------------- 5.0/15.8 MB 9.9 MB/s eta 0:00:02\n",
      "   ------------- -------------------------- 5.4/15.8 MB 9.8 MB/s eta 0:00:02\n",
      "   -------------- ------------------------- 5.8/15.8 MB 9.8 MB/s eta 0:00:02\n",
      "   --------------- ------------------------ 6.2/15.8 MB 9.7 MB/s eta 0:00:01\n",
      "   ---------------- ----------------------- 6.7/15.8 MB 9.7 MB/s eta 0:00:01\n",
      "   ------------------ --------------------- 7.2/15.8 MB 9.8 MB/s eta 0:00:01\n",
      "   ------------------- -------------------- 7.7/15.8 MB 9.8 MB/s eta 0:00:01\n",
      "   -------------------- ------------------- 8.1/15.8 MB 9.8 MB/s eta 0:00:01\n",
      "   --------------------- ------------------ 8.6/15.8 MB 10.0 MB/s eta 0:00:01\n",
      "   ---------------------- ----------------- 9.0/15.8 MB 9.8 MB/s eta 0:00:01\n",
      "   ------------------------ --------------- 9.5/15.8 MB 10.0 MB/s eta 0:00:01\n",
      "   ------------------------- -------------- 10.0/15.8 MB 10.0 MB/s eta 0:00:01\n",
      "   -------------------------- ------------- 10.5/15.8 MB 9.9 MB/s eta 0:00:01\n",
      "   --------------------------- ------------ 11.0/15.8 MB 9.9 MB/s eta 0:00:01\n",
      "   ----------------------------- ---------- 11.6/15.8 MB 9.9 MB/s eta 0:00:01\n",
      "   ------------------------------ --------- 12.0/15.8 MB 9.9 MB/s eta 0:00:01\n",
      "   ------------------------------- -------- 12.5/15.8 MB 9.9 MB/s eta 0:00:01\n",
      "   -------------------------------- ------- 13.0/15.8 MB 10.1 MB/s eta 0:00:01\n",
      "   ---------------------------------- ----- 13.4/15.8 MB 10.1 MB/s eta 0:00:01\n",
      "   ----------------------------------- ---- 13.9/15.8 MB 10.1 MB/s eta 0:00:01\n",
      "   ------------------------------------ --- 14.4/15.8 MB 10.2 MB/s eta 0:00:01\n",
      "   ------------------------------------- -- 14.8/15.8 MB 10.2 MB/s eta 0:00:01\n",
      "   -------------------------------------- - 15.3/15.8 MB 10.2 MB/s eta 0:00:01\n",
      "   ---------------------------------------  15.8/15.8 MB 10.2 MB/s eta 0:00:01\n",
      "   ---------------------------------------  15.8/15.8 MB 10.2 MB/s eta 0:00:01\n",
      "   ---------------------------------------- 15.8/15.8 MB 9.3 MB/s eta 0:00:00\n",
      "Using cached pytz-2023.3.post1-py2.py3-none-any.whl (502 kB)\n",
      "Installing collected packages: pytz, tzdata, numpy, pandas\n",
      "Successfully installed numpy-1.26.0 pandas-2.1.1 pytz-2023.3.post1 tzdata-2023.3\n"
     ]
    }
   ],
   "source": [
    "pip install pandas"
   ]
  },
  {
   "cell_type": "code",
   "execution_count": 2,
   "metadata": {},
   "outputs": [
    {
     "name": "stdout",
     "output_type": "stream",
     "text": [
      "          movieId  tagId  relevance\n",
      "1035            1   1036    0.99925\n",
      "243             1    244    0.99850\n",
      "785             1    786    0.99600\n",
      "588             1    589    0.99075\n",
      "63              1     64    0.98575\n",
      "...           ...    ...        ...\n",
      "11708931   131170    292    0.69975\n",
      "11709689   131170   1050    0.69600\n",
      "11709349   131170    710    0.69200\n",
      "11709610   131170    971    0.67775\n",
      "11708698   131170     59    0.67425\n",
      "\n",
      "[212843 rows x 3 columns]\n"
     ]
    }
   ],
   "source": [
    "import pandas as pd\n",
    "\n",
    "genome_scores = pd.read_csv('genome_scores.csv')\n",
    "\n",
    "relevance_threshold = 0.67\n",
    "\n",
    "filtered_genome_scores = genome_scores[genome_scores['relevance'] >= relevance_threshold]\n",
    "\n",
    "filtered_genome_scores.to_csv('filtered_genome_scores.csv', index=False)\n",
    "\n",
    "sorted_genome_scores = filtered_genome_scores.sort_values(by=['movieId', 'relevance'], ascending=[True, False])\n",
    "\n",
    "sorted_genome_scores.to_csv('sorted_genome_scores.csv', index=False)\n",
    "\n",
    "print(sorted_genome_scores)\n",
    "\n"
   ]
  },
  {
   "cell_type": "code",
   "execution_count": 3,
   "metadata": {},
   "outputs": [
    {
     "name": "stdout",
     "output_type": "stream",
     "text": [
      "         userId  movieId  rating\n",
      "0             1        2     3.5\n",
      "1             1       29     3.5\n",
      "2             1       32     3.5\n",
      "3             1       47     3.5\n",
      "4             1       50     3.5\n",
      "...         ...      ...     ...\n",
      "1476396   10000      708     5.0\n",
      "1476397   10000      719     5.0\n",
      "1476398   10000      736     5.0\n",
      "1476399   10000      780     5.0\n",
      "1476400   10000      788     1.0\n",
      "\n",
      "[1476401 rows x 3 columns]\n"
     ]
    }
   ],
   "source": [
    "ratings = pd.read_csv('rating.csv')\n",
    "\n",
    "first_10k_users = ratings['userId'].unique()[:10000]\n",
    "\n",
    "filtered_ratings = ratings[ratings['userId'].isin(first_10k_users)]\n",
    "\n",
    "filtered_ratings = filtered_ratings.drop(columns=['timestamp'])\n",
    "\n",
    "filtered_ratings.to_csv('filtered_ratings.csv', index=False)\n",
    "\n",
    "print(filtered_ratings)\n"
   ]
  },
  {
   "cell_type": "code",
   "execution_count": 4,
   "metadata": {},
   "outputs": [
    {
     "name": "stdout",
     "output_type": "stream",
     "text": [
      "        userId  movieId            tag\n",
      "0           18     4141    Mark Waters\n",
      "1           65      208      dark hero\n",
      "2           65      353      dark hero\n",
      "3           65      521  noir thriller\n",
      "4           65      592      dark hero\n",
      "...        ...      ...            ...\n",
      "465559  138446    55999        dragged\n",
      "465560  138446    55999  Jason Bateman\n",
      "465561  138446    55999         quirky\n",
      "465562  138446    55999            sad\n",
      "465563  138472      923  rise to power\n",
      "\n",
      "[465564 rows x 3 columns]\n"
     ]
    }
   ],
   "source": [
    "tags = pd.read_csv('tag.csv')\n",
    "\n",
    "first_10k_users = tags['userId'].unique()[:10000]\n",
    "\n",
    "filtered_tags = tags[tags['userId'].isin(first_10k_users)]\n",
    "\n",
    "filtered_tags = filtered_tags.drop(columns=['timestamp'])\n",
    "\n",
    "filtered_tags.to_csv('filtered_tags.csv', index=False)\n",
    "\n",
    "print(filtered_tags)\n"
   ]
  }
 ],
 "metadata": {
  "kernelspec": {
   "display_name": "Python 3",
   "language": "python",
   "name": "python3"
  },
  "language_info": {
   "codemirror_mode": {
    "name": "ipython",
    "version": 3
   },
   "file_extension": ".py",
   "mimetype": "text/x-python",
   "name": "python",
   "nbconvert_exporter": "python",
   "pygments_lexer": "ipython3",
   "version": "3.8.8"
  },
  "vscode": {
   "interpreter": {
    "hash": "22f13262d230a7eb2c88ed6f82439cb58d0140fb72e1eb566319f7b56c83025d"
   }
  }
 },
 "nbformat": 4,
 "nbformat_minor": 2
}
