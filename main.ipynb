{
 "cells": [
  {
   "cell_type": "markdown",
   "metadata": {},
   "source": [
    "## Individual Recommender system\n",
    "Running the cell below you can actually put the individual recommender system in practice. Do not add any actual code about the recommenders in this notebook, do that in 'recommender.ipynb' and then import the necessary methods you need. (ask chatgpt how to do so) "
   ]
  },
  {
   "cell_type": "code",
   "execution_count": 77,
   "metadata": {},
   "outputs": [],
   "source": [
    "\n",
    "import pandas as pd\n",
    "import numpy as np\n",
    "import matplotlib.pyplot as plt\n",
    "import matplotlib.cm as cm\n",
    "\n",
    "import random\n",
    "\n"
   ]
  },
  {
   "cell_type": "code",
   "execution_count": 78,
   "metadata": {},
   "outputs": [],
   "source": [
    "import matplotlib\n",
    "import matplotlib.pyplot as plt\n",
    "import matplotlib.cm as cm\n",
    "import pandas as pd\n",
    "from fuzzywuzzy import fuzz\n",
    "from fuzzywuzzy import process\n",
    "import csv\n",
    "import keyboard\n",
    "from sklearn.feature_extraction.text import TfidfVectorizer\n",
    "from sklearn.neighbors import KNeighborsRegressor"
   ]
  },
  {
   "cell_type": "code",
   "execution_count": 79,
   "metadata": {},
   "outputs": [],
   "source": [
    "ratings_df = pd.read_csv('Data/filtered_ratings.csv')\n",
    "movies = pd.read_csv('Data/movies.csv')\n",
    "genome_scores_df = pd.read_csv('Data/filtered_genome_scores.csv')\n",
    "genome_tags_df = pd.read_csv('Data/genome_tags.csv')"
   ]
  },
  {
   "cell_type": "code",
   "execution_count": 134,
   "metadata": {},
   "outputs": [],
   "source": [
    "def get_movie_name(movie_id):\n",
    "    movie_row = movies[movies['movieId'] == movie_id]\n",
    "\n",
    "    if not movie_row.empty:\n",
    "        return movie_row['title'].iloc[0]\n",
    "    else:\n",
    "        return \"Movie not in the list\"\n",
    "        \n",
    "def get_movie_id(movie_name):\n",
    "    movie_row = movies[movies['title'] == movie_name]\n",
    "\n",
    "    if not movie_row.empty:\n",
    "        return movie_row['movieId'].iloc[0]\n",
    "    else:\n",
    "        return \"Movie not found in the list\"\n"
   ]
  },
  {
   "cell_type": "code",
   "execution_count": 54,
   "metadata": {},
   "outputs": [],
   "source": [
    "def newUser(movie_ratings):\n",
    "    new_user_id = 1\n",
    "    \n",
    "    # Find the next available user ID\n",
    "    with open('Data/filtered_ratings.csv', mode='r', newline='') as file:\n",
    "        csv_reader = csv.reader(file)\n",
    "        next(csv_reader)  # Skip the header row\n",
    "        existing_user_ids = set()\n",
    "        for row in csv_reader:\n",
    "            existing_user_ids.add(int(row[0]))\n",
    "        while new_user_id in existing_user_ids:\n",
    "            new_user_id += 1\n",
    "\n",
    "    # Write the new user's ratings to the CSV file, each in a separate row\n",
    "    with open('Data/filtered_ratings.csv', mode='a', newline='') as file:\n",
    "        writer = csv.writer(file)\n",
    "        for movie_id, rating in movie_ratings.items():\n",
    "            writer.writerow([new_user_id, movie_id, rating])\n",
    "    return new_user_id"
   ]
  },
  {
   "cell_type": "code",
   "execution_count": 208,
   "metadata": {},
   "outputs": [],
   "source": [
    "import difflib\n",
    "\n",
    "def getMovieTags(movie_id, genome_scores_df, genome_tags_df):\n",
    "    movie_scores = genome_scores_df[genome_scores_df['movieId'] == movie_id]\n",
    "    \n",
    "    movie_tags = movie_scores.merge(genome_tags_df, on='tagId', how='left')\n",
    "    \n",
    "    tag_relevance_dict = {}\n",
    "    for row in movie_tags.itertuples(index=False):\n",
    "        tag_name = row.tag\n",
    "        relevance = row.relevance\n",
    "        tag_relevance_dict[tag_name] = relevance\n",
    "    \n",
    "    return tag_relevance_dict\n",
    "\n",
    "def getUserTags(user_id, ratings_df, genome_scores_df, genome_tags_df):\n",
    "    # Filter ratings_df for movies rated by the user\n",
    "    user_movies = ratings_df[ratings_df['userId'] == user_id]\n",
    "\n",
    "    # Create a nested dictionary to store movie names, tags, and their relevance\n",
    "    user_tags_dict = {}\n",
    "\n",
    "    # Iterate through movies rated by the user\n",
    "    for _, row in user_movies.iterrows():\n",
    "        movie_id = row['movieId']\n",
    "        movie_name = get_movie_name(movie_id) # Get movie name\n",
    "        user_tags_dict[movie_name] = {}  # Create a dictionary for the movie\n",
    "\n",
    "        # Filter genome_scores_df for the current movie\n",
    "        movie_scores = genome_scores_df[genome_scores_df['movieId'] == movie_id]\n",
    "\n",
    "        # Merge the filtered dataframe with genome_tags_df to get tag names\n",
    "        movie_tags = movie_scores.merge(genome_tags_df, on='tagId', how='left')\n",
    "\n",
    "        for _, tag_row in movie_tags.iterrows():\n",
    "            tag_name = tag_row['tag']\n",
    "            relevance = tag_row['relevance']\n",
    "            user_tags_dict[movie_name][tag_name] = relevance\n",
    "\n",
    "    return user_tags_dict\n",
    "    \n",
    "def getIntersectedTags(user_tags, movie_tags):\n",
    "    intersected_tags = {}  # Dictionary to store intersected tags and their absolute relevance difference\n",
    "\n",
    "    # Iterate through movies in the user's tag relevance dictionary\n",
    "    for movie, user_movie_tags in user_tags.items():\n",
    "        for tag, user_relevance in user_movie_tags.items():\n",
    "            if tag in movie_tags:\n",
    "                movie_relevance = movie_tags[tag]\n",
    "                difference = 1 - abs(user_relevance - movie_relevance)\n",
    "                intersected_tags[tag] = difference\n",
    "\n",
    "    return intersected_tags\n",
    "\n",
    "\n",
    "def getMoviesWithTag(tag, user_tags_dict):\n",
    "    movies_with_tag = []\n",
    "\n",
    "    # Iterate through each movie in the user_tags_dict\n",
    "    for movie, tags in user_tags_dict.items():\n",
    "        # Check if the given tag is present in the movie's tags\n",
    "        if tag in tags:\n",
    "            movies_with_tag.append(movie)\n",
    "\n",
    "    return movies_with_tag\n",
    "\n",
    "def getExplanations(intersected_tags, user_tags, movie_tags, user_ratings):\n",
    "    explanations = []\n",
    "\n",
    "    sentence_printed = False\n",
    "    explanation = \"You might like this movie because it contained the tags\"\n",
    "\n",
    "    tags_processed = 0\n",
    "    if len(intersected_tags) == 0:\n",
    "        return 0\n",
    "        \n",
    "    for tag, similarity in intersected_tags.items():\n",
    "        if similarity > 0.5 and tags_processed < 3:  # Limit to the first 3 tags\n",
    "            if not sentence_printed:\n",
    "                sentence_printed = True\n",
    "            else:\n",
    "                explanation += \",\"\n",
    "\n",
    "            movies_with_tag = getMoviesWithTag(tag, user_tags)\n",
    "\n",
    "            liked_movies_with_tag = [movie for movie in movies_with_tag if user_ratings.get(get_movie_id(movie), 0) > 3.5][:3]\n",
    "\n",
    "            if liked_movies_with_tag:\n",
    "                liked_movie_names = [get_movie_name(get_movie_id(movie)) for movie in liked_movies_with_tag]\n",
    "                explanation += f\" '{tag}'\"\n",
    "                tags_processed += 1\n",
    "\n",
    "    liked_movie_names = [get_movie_name(get_movie_id(movie)) for movie in liked_movies_with_tag]\n",
    "    explanation += f\" which also appear in movies you rated higher than 3.5 like {', '.join(liked_movie_names)}.\"\n",
    "\n",
    "    explanations.append(explanation)\n",
    "\n",
    "    return explanations\n",
    "\n",
    "\n",
    "\n",
    "def predict_ratings_tags(user_id, movie_id, ratings_df, genome_scores_df, genome_tags_df):\n",
    "\n",
    "    user_tags = getUserTags(user_id, ratings_df, genome_scores_df, genome_tags_df)\n",
    "    movie_tags = getMovieTags(1, genome_scores_df, genome_tags_df)\n",
    "\n",
    "    intersected_tags = getIntersectedTags(user_tags, movie_tags)\n",
    "\n",
    "    if not intersected_tags:\n",
    "        return 0.0\n",
    "\n",
    "    size_ratio = len(intersected_tags) / len(movie_tags)\n",
    "\n",
    "    total_similarity = (sum(intersected_tags.values()) / len(intersected_tags)) * size_ratio\n",
    "    mapped_similarity = 0.5 + total_similarity * 4.5\n",
    "\n",
    "    return mapped_similarity\n",
    "\n",
    "\n"
   ]
  },
  {
   "cell_type": "code",
   "execution_count": 185,
   "metadata": {},
   "outputs": [],
   "source": [
    "def get_user_ratings(user_id, ratings_df):\n",
    "    user_ratings_df = ratings_df[ratings_df['userId'] == user_id]\n",
    "    \n",
    "    user_ratings = {}\n",
    "    \n",
    "    for index, row in user_ratings_df.iterrows():\n",
    "        movie_id = row['movieId']\n",
    "        rating = row['rating']\n",
    "        user_ratings[movie_id] = rating\n",
    "    \n",
    "    return user_ratings\n",
    "\n",
    "max_user_id = 610"
   ]
  },
  {
   "cell_type": "code",
   "execution_count": 209,
   "metadata": {},
   "outputs": [
    {
     "name": "stdout",
     "output_type": "stream",
     "text": [
      "[\"You might like this movie because it contained the tags 'adventure', 'children', 'kids' which also appear in movies you rated higher than 3.5 like E.T. the Extra-Terrestrial (1982), Raiders of the Lost Ark (Indiana Jones and the Raiders of the Lost Ark) (1981), Stand by Me (1986).\"]\n"
     ]
    }
   ],
   "source": [
    "user_id_ex = 1\n",
    "movie_id_ex = 1\n",
    "user_tags = getUserTags(user_id_ex, ratings_df, genome_scores_df, genome_tags_df)\n",
    "movie_tags_ex = getMovieTags(1, genome_scores_df, genome_tags_df)\n",
    "user_ratings_ex = get_user_ratings(user_id_ex, ratings_df)\n",
    "intersected_tags = getIntersectedTags(user_tags, movie_tags_ex)\n",
    "print(getExplanations(intersected_tags,user_tags, movie_tags_ex, user_ratings_ex))"
   ]
  },
  {
   "cell_type": "code",
   "execution_count": 228,
   "metadata": {},
   "outputs": [],
   "source": [
    "def recommendKNN(movie_ratings, new_user_id, ratings_df):\n",
    "    selected_user = new_user_id \n",
    "    selected_user_ratings = ratings_df.loc[ratings_df['userId'] == new_user_id]\n",
    "    selected_user_ratings['item'] = selected_user_ratings.index\n",
    "    \n",
    "    selected_user_ratings = selected_user_ratings.sort_values(by='item', ascending=True)\n",
    "    selected_movie_ids = set(selected_user_ratings['movieId'])\n",
    "    \n",
    "    rated_movies_df = movies.reindex(list(selected_user_ratings['movieId']))\n",
    "# rated_movies_df = movies_df[movies_df['movieId'].isin(selected_movie_ids)]\n",
    "    rated_movies_df = rated_movies_df[['title', 'genres']]\n",
    "    rated_movies_df['item'] = rated_movies_df.index \n",
    "    \n",
    "    diff = set(movies.index) - set(rated_movies_df.index)\n",
    "    unrated_movies_df = movies.loc[diff]\n",
    "    unrated_movies_df = unrated_movies_df[['title', 'genres', 'movieId']]\n",
    "    \n",
    "    rated_movies_df = rated_movies_df.join(selected_user_ratings.set_index('movieId')['rating'], on='item')\n",
    "    rated_movies_df['genres'].fillna('', inplace=True)\n",
    "    \n",
    "    vectorizer = TfidfVectorizer()\n",
    "    X = vectorizer.fit_transform(rated_movies_df['genres'])\n",
    "    rated_movies_df['genres'].fillna('', inplace=True)\n",
    "    \n",
    "    y = rated_movies_df['rating']\n",
    "    \n",
    "    neighbors = 0\n",
    "    if len(movie_ratings) < 5:\n",
    "        neighbors = len(movie_ratings)\n",
    "    else:\n",
    "        neighbors = 5\n",
    "    \n",
    "    neigh = KNeighborsRegressor(n_neighbors=neighbors)\n",
    "    neigh.fit(X, y)\n",
    "    \n",
    "    X_unrated = vectorizer.transform(unrated_movies_df['genres'])\n",
    "    y_unrated = neigh.predict(X_unrated)\n",
    "    unrated_movies_df['predicted_ratings_KNN'] = y_unrated\n",
    "    unrated_movies_df_KNN_ordering = unrated_movies_df.sort_values(by='predicted_ratings_KNN', ascending=False)\n",
    "    top_10_movies = unrated_movies_df_KNN_ordering.head(10)\n",
    "\n",
    "    user_tags = getUserTags(new_user_id, ratings_df, genome_scores_df, genome_tags_df)\n",
    "    \n",
    "    for i, (index, movie) in enumerate(top_10_movies.iterrows(), 1):\n",
    "        print(f\"{i}) Movie: {movie['title']}, Genre: {movie['genres']}\")\n",
    "        movie_tags = getMovieTags(movie['movieId'], genome_scores_df, genome_tags_df)\n",
    "        intersected_tags = getIntersectedTags(user_tags, movie_tags)\n",
    "\n",
    "        explanations = getExplanations(intersected_tags, user_tags, movie_tags, movie_ratings)\n",
    "        if explanations != 0:\n",
    "            for explanation in explanations:\n",
    "                print(explanation)\n"
   ]
  },
  {
   "cell_type": "code",
   "execution_count": 221,
   "metadata": {},
   "outputs": [
    {
     "name": "stderr",
     "output_type": "stream",
     "text": [
      "C:\\Users\\Alvaro\\AppData\\Local\\Temp\\ipykernel_8744\\2498579319.py:4: SettingWithCopyWarning: \n",
      "A value is trying to be set on a copy of a slice from a DataFrame.\n",
      "Try using .loc[row_indexer,col_indexer] = value instead\n",
      "\n",
      "See the caveats in the documentation: https://pandas.pydata.org/pandas-docs/stable/user_guide/indexing.html#returning-a-view-versus-a-copy\n",
      "  selected_user_ratings['item'] = selected_user_ratings.index\n",
      "C:\\Users\\Alvaro\\AppData\\Local\\Temp\\ipykernel_8744\\2498579319.py:15: FutureWarning: Passing a set as an indexer is deprecated and will raise in a future version. Use a list instead.\n",
      "  unrated_movies_df = movies.loc[diff]\n"
     ]
    },
    {
     "name": "stdout",
     "output_type": "stream",
     "text": [
      "1) Movie: House by the River (1950), Genre: Crime|Drama|Film-Noir\n",
      "2) Movie: Kiss of Death (1947), Genre: Crime|Drama|Film-Noir\n",
      "You might like this movie because it contained the tags 'original', 'drama', 'mob' which also appear in movies you rated higher than 3.5 like Bullets Over Broadway (1994).\n",
      "3) Movie: Brasher Doubloon, The (1947), Genre: Crime|Drama|Film-Noir|Mystery\n",
      "4) Movie: Kansas City Confidential (1952), Genre: Crime|Drama|Film-Noir|Mystery\n",
      "5) Movie: I Declare War (2012), Genre: Action|Comedy|Drama\n",
      "6) Movie: Driver, The (1978), Genre: Action|Crime|Film-Noir\n",
      "7) Movie: Killer Is Loose, The (1956), Genre: Crime|Drama|Film-Noir\n",
      "8) Movie: Paid (1930), Genre: Crime|Drama|Film-Noir\n",
      "9) Movie: Desperate Hours, The (1955), Genre: Drama|Film-Noir|Thriller\n",
      "You might like this movie because it contained the tags 'original', 'drama', 'gangster' which also appear in movies you rated higher than 3.5 like Bullets Over Broadway (1994).\n",
      "10) Movie: Where Danger Lives (1950), Genre: Drama|Film-Noir|Romance|Thriller\n"
     ]
    }
   ],
   "source": [
    "user_id = 7\n",
    "movie_ratings = get_user_ratings(user_id, ratings_df)\n",
    "recommendKNN(movie_ratings, user_id, ratings_df)"
   ]
  },
  {
   "cell_type": "code",
   "execution_count": 16,
   "metadata": {},
   "outputs": [],
   "source": [
    "def deleteRows():\n",
    "    input_file = \"Data/filtered_ratings.csv\"\n",
    "\n",
    "# Read the CSV file into a pandas DataFrame\n",
    "    df = pd.read_csv(input_file)\n",
    "    # Find the index of the first row where userId is greater than or equal to 100000\n",
    "    start_index = df[df['userId'] > 10000].index[0]\n",
    "\n",
    "    # Keep only the rows up to the start_index\n",
    "    df = df.iloc[:start_index]\n",
    "\n",
    "    # Save the updated DataFrame back to the original file, overwriting it\n",
    "    df.to_csv(input_file, index=False)\n",
    "    "
   ]
  },
  {
   "cell_type": "code",
   "execution_count": 272,
   "metadata": {},
   "outputs": [],
   "source": [
    "def compute_similarity(genre_rating, contains_genre):\n",
    "    return 2.75 if not contains_genre else genre_rating\n",
    "\n",
    "def getMovieGenres(movie_id):\n",
    "    movie_row = movies[movies['movieId'] == movie_id]\n",
    "\n",
    "    if not movie_row.empty:\n",
    "        genres_str = movie_row['genres'].iloc[0]\n",
    "        \n",
    "        genres_list = genres_str.split('|')\n",
    "        \n",
    "        return genres_list\n",
    "    else:\n",
    "        return []\n",
    "        \n",
    "def getGenresDict(genres, movie_id):\n",
    "    movieGenres = getMovieGenres(movie_id)\n",
    "    genresDict = {}\n",
    "    for genre, rating in genres.items():  # Iterate through the genres dictionary with keys and values\n",
    "        if genre in movieGenres:\n",
    "            genresDict[genre] = True\n",
    "        else:\n",
    "            genresDict[genre] = False\n",
    "    return genresDict\n",
    "\n",
    "\n",
    "def recommendMovie(user_ratings, movies_df, ratings_df, n):\n",
    "    movie_ratings_count = ratings_df['movieId'].value_counts().reset_index()\n",
    "    movie_ratings_count.columns = ['movieId', 'count']\n",
    "    popular_movies = movies_df.merge(movie_ratings_count, on='movieId', how='inner')\n",
    "    popular_movies = popular_movies[popular_movies['count'] > 3]\n",
    "    popular_movies = popular_movies.sort_values(by='count', ascending=False)\n",
    "\n",
    "    recommended_movies = []\n",
    "    for movie_id in popular_movies['movieId']:\n",
    "        if len(recommended_movies) >= n:\n",
    "            break\n",
    "        if movie_id not in user_ratings:\n",
    "            # Use predictRating method to predict the rating\n",
    "            predicted_rating = predictRating(user_ratings, movie_id)\n",
    "            if predicted_rating > 3:\n",
    "                recommended_movies.append(movie_id)\n",
    "    recommendations_str = \"\"\n",
    "    for id in recommended_movies:\n",
    "        recommendations_str += get_movie_name(id) + \"\\n\"\n",
    "\n",
    "    return recommendations_str\n",
    "\n",
    "def getGenreRatings(user_ratings):\n",
    "    genres = {}\n",
    "    genre_counts = {}  \n",
    "    for movie_id, rating in user_ratings.items():\n",
    "        movie_genres = getMovieGenres(movie_id)\n",
    "        for current_genre in movie_genres:\n",
    "            genres[current_genre] = genres.get(current_genre, 0) + rating\n",
    "            genre_counts[current_genre] = genre_counts.get(current_genre, 0) + 1\n",
    "\n",
    "    for genre in genres:\n",
    "        genres[genre] /= genre_counts[genre]  # Divide the total rating by the number of times the genre appears\n",
    "\n",
    "    return genres\n",
    "\n",
    "    \n",
    "getGenreRatings({1: 5.0, 3: 2.5})\n",
    "\n",
    "def predictRating(user_ratings, movie_to_predict_id):\n",
    "    weighted_sum = 0.0\n",
    "    ratings = getGenreRatings(user_ratings)\n",
    "    contains_genres = getGenresDict(ratings, movie_to_predict_id)\n",
    "\n",
    "    for movie_id in ratings:\n",
    "        similarity = compute_similarity(ratings[movie_id], contains_genres[movie_id]) / len(ratings)\n",
    "        weighted_sum += similarity\n",
    "\n",
    "    return weighted_sum\n",
    "\n",
    "\n",
    "def getAllGenres(movies_df):\n",
    "    genres_column = movies_df['genres']\n",
    "    genre_lists = [genres.split('|') for genres in genres_column]\n",
    "    flat_genre_list = [genre for sublist in genre_lists for genre in sublist]\n",
    "    unique_genres = set(flat_genre_list)\n",
    "    return list(unique_genres)\n",
    "\n",
    "all_genres = getAllGenres(movies)\n",
    "\n"
   ]
  },
  {
   "cell_type": "code",
   "execution_count": 218,
   "metadata": {
    "scrolled": true
   },
   "outputs": [
    {
     "name": "stdout",
     "output_type": "stream",
     "text": [
      "Rating for 'Toy Story (1995)' added.\n",
      "Rating for 'Jurassic Park (1993)' added.\n",
      "Your recommendations are:\n"
     ]
    },
    {
     "name": "stderr",
     "output_type": "stream",
     "text": [
      "C:\\Users\\Alvaro\\AppData\\Local\\Temp\\ipykernel_8744\\2498579319.py:4: SettingWithCopyWarning: \n",
      "A value is trying to be set on a copy of a slice from a DataFrame.\n",
      "Try using .loc[row_indexer,col_indexer] = value instead\n",
      "\n",
      "See the caveats in the documentation: https://pandas.pydata.org/pandas-docs/stable/user_guide/indexing.html#returning-a-view-versus-a-copy\n",
      "  selected_user_ratings['item'] = selected_user_ratings.index\n",
      "C:\\Users\\Alvaro\\AppData\\Local\\Temp\\ipykernel_8744\\2498579319.py:15: FutureWarning: Passing a set as an indexer is deprecated and will raise in a future version. Use a list instead.\n",
      "  unrated_movies_df = movies.loc[diff]\n"
     ]
    },
    {
     "name": "stdout",
     "output_type": "stream",
     "text": [
      "1) Movie: Toy Story (1995), Genre: Adventure|Animation|Children|Comedy|Fantasy\n",
      "You might like this movie because it contained the tags, 'computer animation',, 'kids and family',, 'kids' which also appear in movies you rated higher than 3.5 like Jurassic Park (1993).\n",
      "2) Movie: River Why, The (2010), Genre: Drama\n",
      "3) Movie: From Beyond the Grave (Creatures) (1974), Genre: Horror\n",
      "4) Movie: Wuthering Heights (2011), Genre: Drama\n",
      "5) Movie: Wichita (1955), Genre: Action|Romance|Western\n",
      "6) Movie: Story of Mankind, The (1957), Genre: Drama|Fantasy\n",
      "7) Movie: Fright (1972), Genre: Crime|Horror|Thriller\n",
      "8) Movie: Shaolin (Xin shao lin si) (2011), Genre: Action|Drama\n",
      "9) Movie: Big Hangover, The (1950), Genre: Comedy\n",
      "10) Movie: Another Happy Day (2011), Genre: Drama\n",
      "\n",
      "\n",
      "\n",
      "\n"
     ]
    },
    {
     "ename": "NameError",
     "evalue": "name 'deleteRows' is not defined",
     "output_type": "error",
     "traceback": [
      "\u001b[1;31m---------------------------------------------------------------------------\u001b[0m",
      "\u001b[1;31mNameError\u001b[0m                                 Traceback (most recent call last)",
      "\u001b[1;32mc:\\Users\\Alvaro\\Documents\\GitHub\\RecommenderSystems\\main.ipynb Cell 14\u001b[0m in \u001b[0;36m<cell line: 30>\u001b[1;34m()\u001b[0m\n\u001b[0;32m     <a href='vscode-notebook-cell:/c%3A/Users/Alvaro/Documents/GitHub/RecommenderSystems/main.ipynb#Y102sZmlsZQ%3D%3D?line=41'>42</a>\u001b[0m             \u001b[39mprint\u001b[39m(\u001b[39m\"\u001b[39m\u001b[39m\\n\u001b[39;00m\u001b[39m\"\u001b[39m)\n\u001b[0;32m     <a href='vscode-notebook-cell:/c%3A/Users/Alvaro/Documents/GitHub/RecommenderSystems/main.ipynb#Y102sZmlsZQ%3D%3D?line=42'>43</a>\u001b[0m             \u001b[39mprint\u001b[39m(\u001b[39m\"\u001b[39m\u001b[39m\\n\u001b[39;00m\u001b[39m\"\u001b[39m)\n\u001b[1;32m---> <a href='vscode-notebook-cell:/c%3A/Users/Alvaro/Documents/GitHub/RecommenderSystems/main.ipynb#Y102sZmlsZQ%3D%3D?line=43'>44</a>\u001b[0m             deleteRows()\n\u001b[0;32m     <a href='vscode-notebook-cell:/c%3A/Users/Alvaro/Documents/GitHub/RecommenderSystems/main.ipynb#Y102sZmlsZQ%3D%3D?line=44'>45</a>\u001b[0m \u001b[39m#             print('ADD HERE YOUR EXPLANATION ON THE MOVIE RECOMMENDATIONS')\u001b[39;00m\n\u001b[0;32m     <a href='vscode-notebook-cell:/c%3A/Users/Alvaro/Documents/GitHub/RecommenderSystems/main.ipynb#Y102sZmlsZQ%3D%3D?line=45'>46</a>\u001b[0m             \u001b[39m#----------------------------ADD YOUR WORK HERE-----------------------------\u001b[39;00m\n\u001b[0;32m     <a href='vscode-notebook-cell:/c%3A/Users/Alvaro/Documents/GitHub/RecommenderSystems/main.ipynb#Y102sZmlsZQ%3D%3D?line=46'>47</a>\u001b[0m \n\u001b[0;32m     <a href='vscode-notebook-cell:/c%3A/Users/Alvaro/Documents/GitHub/RecommenderSystems/main.ipynb#Y102sZmlsZQ%3D%3D?line=47'>48</a>\u001b[0m         \u001b[39melse\u001b[39;00m:\n\u001b[0;32m     <a href='vscode-notebook-cell:/c%3A/Users/Alvaro/Documents/GitHub/RecommenderSystems/main.ipynb#Y102sZmlsZQ%3D%3D?line=48'>49</a>\u001b[0m             \u001b[39mprint\u001b[39m(\u001b[39m\"\u001b[39m\u001b[39mInvalid choice. Please enter \u001b[39m\u001b[39m'\u001b[39m\u001b[39mgenre\u001b[39m\u001b[39m'\u001b[39m\u001b[39m or \u001b[39m\u001b[39m'\u001b[39m\u001b[39muser\u001b[39m\u001b[39m'\u001b[39m\u001b[39m.\u001b[39m\u001b[39m\"\u001b[39m)\n",
      "\u001b[1;31mNameError\u001b[0m: name 'deleteRows' is not defined"
     ]
    }
   ],
   "source": [
    "movie_ratings = {}\n",
    "while True:\n",
    "    movie_name = input(\"Enter a movie name (or 'done' to finish): \")\n",
    "    \n",
    "    if movie_name.lower() == 'done' or keyboard.is_pressed('esc'):\n",
    "        break\n",
    "    \n",
    "    matched_movies = process.extractOne(movie_name, movies['title'], scorer=fuzz.token_set_ratio)\n",
    "\n",
    "    if matched_movies[1] >= 80:  # Similarity threshold\n",
    "        movie_id = movies[movies['title'] == matched_movies[0]]['movieId'].values[0]\n",
    "        correct_movie_name = matched_movies[0]\n",
    "        while True:\n",
    "            rating = input(f\"Enter a rating for '{correct_movie_name}' (1-5): \")\n",
    "            try:\n",
    "                rating = float(rating)\n",
    "                if 1 <= rating <= 5:\n",
    "                    break\n",
    "               \n",
    "                else:\n",
    "                    print(\"Rating must be between 1 and 5.\")\n",
    "            except ValueError:\n",
    "                print(\"Invalid rating. Please enter a number between 1 and 5.\")\n",
    "        \n",
    "        movie_ratings[movie_id] = rating\n",
    "        print(f\"Rating for '{correct_movie_name}' added.\")\n",
    "    else:\n",
    "        print(f\"Movie '{movie_name}' not found in the database.\")\n",
    "    \n",
    "if movie_ratings:\n",
    "    while True:\n",
    "        recommendation_type = input(\"Enter 'genre' for genre-based recommendation or 'knn' for similar user recommendation: \").lower()\n",
    "        if recommendation_type == 'genre':\n",
    "            print(recommendMovie(movie_ratings, movies, ratings_df, 5))\n",
    "        elif recommendation_type == 'knn':\n",
    "\n",
    "            #----------------------------ADD YOUR WORK HERE-----------------------------\n",
    "            user = newUser(movie_ratings)\n",
    "            ratings_df = pd.read_csv('Data/filtered_ratings.csv')\n",
    "            print(\"Your recommendations are:\")\n",
    "            recommendKNN(movie_ratings,user, ratings_df)\n",
    "            print(\"\\n\")\n",
    "            print(\"\\n\")\n",
    "            deleteRows()\n",
    "#             print('ADD HERE YOUR EXPLANATION ON THE MOVIE RECOMMENDATIONS')\n",
    "            #----------------------------ADD YOUR WORK HERE-----------------------------\n",
    "\n",
    "        else:\n",
    "            print(\"Invalid choice. Please enter 'genre' or 'user'.\")\n",
    "        break\n",
    "\n",
    "\n"
   ]
  },
  {
   "cell_type": "markdown",
   "metadata": {},
   "source": []
  },
  {
   "cell_type": "code",
   "execution_count": 254,
   "metadata": {},
   "outputs": [
    {
     "name": "stdout",
     "output_type": "stream",
     "text": [
      "10644\n",
      "Pulp Fiction (1994)\n",
      "Forrest Gump (1994)\n",
      "Apollo 13 (1995)\n",
      "American Beauty (1999)\n",
      "Dances with Wolves (1990)\n",
      "\n"
     ]
    }
   ],
   "source": [
    "user_ratings_kid = {1: 5.0, 2: 5.0, 364: 4.0, 6377: 4.0}\n",
    "print(recommendMovie(user_ratings_kid, movies, ratings_df, 5))"
   ]
  },
  {
   "cell_type": "markdown",
   "metadata": {},
   "source": [
    "### Indivual Recimmender using KNN"
   ]
  },
  {
   "cell_type": "code",
   "execution_count": null,
   "metadata": {},
   "outputs": [],
   "source": [
    "users_ratings = ratings_df.groupby(['userId']).count()\n",
    "\n",
    "selected = users_ratings['rating'] > 200\n",
    "selected_users = users_ratings.loc[selected]\n",
    "random_selected = selected_users.sample() # sample() returns a random row from the dataframe. The returned object is a dataframe with one row. If you pass a number as argument you specify to select more than one row.\n",
    "select_column_df = random_selected.reset_index()['userId'] # reset_index() create a new index, and the user became a column. Then, we can filter using the column name\n",
    "selected_user = select_column_df.iloc[0] # iloc select by index, since our dataframe only has one row we read it from the index 0\n",
    "# selected_user = 19\n",
    "print(\"Selected user: \" + str(selected_user))"
   ]
  },
  {
   "cell_type": "code",
   "execution_count": null,
   "metadata": {},
   "outputs": [],
   "source": [
    "selected_user_ratings = ratings_df.loc[ratings_df['userId'] == selected_user]\n",
    "selected_user_ratings['item'] = selected_user_ratings.index \n",
    "selected_user_ratings.to_csv('selected_user_ratings.csv', index=False)\n",
    "selected_user_ratings = selected_user_ratings.sort_values(by='item', ascending=True)\n",
    "print(\"Rated movies: \" + str(selected_user_ratings.shape[0]))\n",
    "# display(selected_user_ratings.head(10))"
   ]
  },
  {
   "cell_type": "code",
   "execution_count": null,
   "metadata": {},
   "outputs": [],
   "source": [
    "selected_movie_ids = set(selected_user_ratings['movieId'])\n",
    "rated_movies_df = movies.reindex(list(selected_user_ratings['movieId']))\n",
    "# rated_movies_df = movies_df[movies_df['movieId'].isin(selected_movie_ids)]\n",
    "rated_movies_df = rated_movies_df[['title', 'genres']]\n",
    "rated_movies_df['item'] = rated_movies_df.index \n",
    "rated_movies_df.to_csv('rated_movies_df.csv', index=False)"
   ]
  },
  {
   "cell_type": "code",
   "execution_count": null,
   "metadata": {},
   "outputs": [],
   "source": [
    "diff = set(movies.index) - set(rated_movies_df.index)\n",
    "unrated_movies_df = movies.loc[diff]\n",
    "# display(unrated_movies_df.head())\n",
    "unrated_movies_df = unrated_movies_df[['title', 'genres']]\n",
    "print(\"Unrated movies: \" + str(unrated_movies_df.shape[0]))\n",
    "# display(unrated_movies_df.head(10))"
   ]
  },
  {
   "cell_type": "code",
   "execution_count": null,
   "metadata": {},
   "outputs": [],
   "source": [
    "rated_movies_df = rated_movies_df.join(selected_user_ratings.set_index('movieId')['rating'], on='item')\n",
    "print(\"Rated movies: \" + str(rated_movies_df.shape[0]))\n",
    "# display(rated_movies_df.head(10))"
   ]
  },
  {
   "cell_type": "code",
   "execution_count": null,
   "metadata": {},
   "outputs": [],
   "source": [
    "rated_movies_df['genres'].fillna('', inplace=True)\n",
    "vectorizer = TfidfVectorizer()\n",
    "X = vectorizer.fit_transform(rated_movies_df['genres'])\n",
    "rated_movies_df['genres'].fillna('', inplace=True)\n",
    "y = rated_movies_df['rating']\n",
    "neigh = KNeighborsRegressor(n_neighbors=5)\n",
    "neigh.fit(X, y)\n",
    "X_unrated = vectorizer.transform(unrated_movies_df['genres'])\n",
    "y_unrated = neigh.predict(X_unrated)\n",
    "unrated_movies_df['predicted_ratings_KNN'] = y_unrated\n"
   ]
  },
  {
   "cell_type": "code",
   "execution_count": null,
   "metadata": {},
   "outputs": [],
   "source": [
    "user_ratings = movie_ratings  # Use the provided 'movie_ratings' dictionary\n",
    "\n",
    "# Train a KNN model to predict ratings\n",
    "vectorizer = TfidfVectorizer()\n",
    "X = vectorizer.fit_transform(rated_movies_df['genres'])\n",
    "y = rated_movies_df['rating']\n",
    "\n",
    "neigh = KNeighborsRegressor(n_neighbors=5)\n",
    "neigh.fit(X, y)\n",
    "\n",
    "#Predict ratings for unrated movies\n",
    "X_unrated = vectorizer.transform(unrated_movies_df['genres'])\n",
    "y_unrated = neigh.predict(X_unrated)\n",
    "\n",
    "#Dictionary with movie IDs and predicted ratings\n",
    "predicted_ratings = {}\n",
    "for idx, movie_id in enumerate(unrated_movies_df.index):\n",
    "    predicted_ratings[movie_id] = y_unrated[idx]\n",
    "\n",
    "user_and_predicted_ratings = {**user_ratings, **predicted_ratings}\n",
    "\n",
    "# Sort the movies based on the combined ratings\n",
    "sorted_movies = sorted(user_and_predicted_ratings.items(), key=lambda x: x[1], reverse=True)\n",
    "\n",
    "# Print the top 10 recommended movies\n",
    "print(\"Top 10 Recommended Movies:\")\n",
    "for i, (movie_id, rating) in enumerate(sorted_movies[:10], 1):\n",
    "    print(f\"{i}. Movie ID: {movie_id}, Rating: {rating}\")\n",
    "for i, (movie_id, rating) in enumerate(sorted_movies[:10], 1):\n",
    "    print(f\"{i}. Movie : {get_movie_name(movie_id)}, Rating: {rating}\")"
   ]
  },
  {
   "cell_type": "code",
   "execution_count": null,
   "metadata": {},
   "outputs": [],
   "source": [
    "user_id_ex = 8976\n",
    "movie_id_ex = 64839\n",
    "predict_ratings_tags(user_id_ex, movie_id_ex, ratings_df, genome_scores_df, genome_tags_df)"
   ]
  },
  {
   "cell_type": "code",
   "execution_count": 252,
   "metadata": {},
   "outputs": [],
   "source": [
    "def test_tags_based(movies_df, ratings_df):\n",
    "    # Convert ratings_df to a list of records\n",
    "    ratings_list = list(ratings_df.to_records(index=False))\n",
    "    \n",
    "    # Use random.sample on the list of records\n",
    "    random_ratings = random.sample(ratings_list, 10)\n",
    "\n",
    "    actual_ratings = []  # Actual ratings (x-axis)\n",
    "    predicted_ratings = []  # Predicted ratings (y-axis)\n",
    "\n",
    "    for record in random_ratings:\n",
    "        user_id, movie_id, actual_rating = record\n",
    "        predicted_rating = predict_ratings_tags(user_id, movie_id, ratings_df, genome_scores_df, genome_tags_df)\n",
    "\n",
    "        actual_ratings.append(actual_rating)\n",
    "        predicted_ratings.append(predicted_rating)\n",
    "\n",
    "    # Plot actual vs predicted ratings\n",
    "    plt.figure(figsize=(8, 6))\n",
    "    plt.scatter(actual_ratings, predicted_ratings, alpha=0.5)\n",
    "    plt.xlabel('Actual Ratings')\n",
    "    plt.ylabel('Predicted Ratings')\n",
    "    plt.title('Actual vs Predicted Ratings')\n",
    "    plt.grid(True)\n",
    "    plt.show()\n",
    "\n"
   ]
  },
  {
   "cell_type": "code",
   "execution_count": 253,
   "metadata": {},
   "outputs": [
    {
     "data": {
      "image/png": "[encoded data removed]",
      "text/plain": [
       "<Figure size 576x432 with 1 Axes>"
      ]
     },
     "metadata": {
      "needs_background": "light"
     },
     "output_type": "display_data"
    }
   ],
   "source": [
    "test_tags_based(movies, ratings_df)\n"
   ]
  },
  {
   "cell_type": "markdown",
   "metadata": {},
   "source": [
    "## Group Recommender system\n",
    "In this case I decided not to ask the users for the ratings because it is counterproductive. In this case, the group ratings will be already defined in the code\n"
   ]
  },
  {
   "cell_type": "code",
   "execution_count": null,
   "metadata": {},
   "outputs": [],
   "source": [
    "#Some random group users movie ratings\n",
    "group_movie_ratings = [\n",
    "    {1: 5, 2: 3, 13: 4, 3: 4.5},\n",
    "    {190: 2, 9372: 4, 837: 1.5},\n",
    "    {89: 3.5, 7521: 3, 90: 3.5}\n",
    "]"
   ]
  },
  {
   "cell_type": "code",
   "execution_count": 262,
   "metadata": {},
   "outputs": [],
   "source": [
    "def mergeRatings(group_ratings):\n",
    "    movie_ratings = {}  # Dictionary to store movie ratings and counts\n",
    "\n",
    "    for user_ratings in group_ratings:\n",
    "        for movie_id, rating in user_ratings.items():\n",
    "            if movie_id in movie_ratings:\n",
    "                movie_ratings[movie_id]['total_rating'] += rating\n",
    "                movie_ratings[movie_id]['count'] += 1\n",
    "            else:\n",
    "                movie_ratings[movie_id] = {\n",
    "                    'total_rating': rating,\n",
    "                    'count': 1\n",
    "                }\n",
    "\n",
    "    average_ratings = {}  # Dictionary to store average ratings\n",
    "\n",
    "    for movie_id, data in movie_ratings.items():\n",
    "        average_ratings[movie_id] = data['total_rating'] / data['count']\n",
    "\n",
    "    return average_ratings\n",
    "\n",
    "    "
   ]
  },
  {
   "cell_type": "code",
   "execution_count": 275,
   "metadata": {},
   "outputs": [
    {
     "name": "stdout",
     "output_type": "stream",
     "text": [
      "Forrest Gump (1994)\n",
      "True Lies (1994)\n",
      "Aladdin (1992)\n",
      "Lion King, The (1994)\n",
      "Beauty and the Beast (1991)\n",
      "\n"
     ]
    }
   ],
   "source": [
    "group_movie_ratings = [\n",
    "    {1: 5, 2: 3, 13: 4, 3: 4.5},\n",
    "    {190: 2, 9372: 4, 837: 1.5},\n",
    "    {89: 3.5, 7521: 3, 90: 3.5}\n",
    "]\n",
    "mergedRatings = mergeRatings(group_movie_ratings) #Hay que añadir las explanations todvia\n",
    "print (recommendMovie(mergedRatings, movies, ratings_df, n=5))\n"
   ]
  },
  {
   "cell_type": "code",
   "execution_count": 259,
   "metadata": {},
   "outputs": [
    {
     "name": "stdout",
     "output_type": "stream",
     "text": [
      "Pulp Fiction (1994)\n",
      "Forrest Gump (1994)\n",
      "Apollo 13 (1995)\n",
      "American Beauty (1999)\n",
      "Dances with Wolves (1990)\n",
      "\n"
     ]
    }
   ],
   "source": [
    "user_ratings_kid = {1: 5.0, 2: 5.0, 364: 4.0, 6377: 4.0}\n",
    "print(recommendMovie(user_ratings_kid, movies, ratings_df, 5))"
   ]
  }
 ],
 "metadata": {
  "kernelspec": {
   "display_name": "Python 3 (ipykernel)",
   "language": "python",
   "name": "python3"
  },
  "language_info": {
   "codemirror_mode": {
    "name": "ipython",
    "version": 3
   },
   "file_extension": ".py",
   "mimetype": "text/x-python",
   "name": "python",
   "nbconvert_exporter": "python",
   "pygments_lexer": "ipython3",
   "version": "3.9.12"
  },
  "vscode": {
   "interpreter": {
    "hash": "86a7600eabecf3dbcbf5a60340165768a3f6b7991c3d2be0d9a303a25788bd38"
   }
  }
 },
 "nbformat": 4,
 "nbformat_minor": 2
}
