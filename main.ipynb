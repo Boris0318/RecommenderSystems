{
 "cells": [
  {
   "cell_type": "markdown",
   "metadata": {},
   "source": [
    "## Individual Recommender system\n",
    "Running the cell below you can actually put the individual recommender system in practice. Do not add any actual code about the recommenders in this notebook, do that in 'recommender.ipynb' and then import the necessary methods you need. (ask chatgpt how to do so) "
   ]
  },
  {
   "cell_type": "code",
   "execution_count": 4,
   "metadata": {},
   "outputs": [
    {
     "name": "stdout",
     "output_type": "stream",
     "text": [
      "Collecting keyboard\n",
      "  Using cached keyboard-0.13.5-py3-none-any.whl (58 kB)\n",
      "Installing collected packages: keyboard\n",
      "Successfully installed keyboard-0.13.5\n",
      "Note: you may need to restart the kernel to use updated packages.\n"
     ]
    },
    {
     "name": "stderr",
     "output_type": "stream",
     "text": [
      "WARNING: Ignoring invalid distribution -illow (c:\\users\\alvaro\\appdata\\local\\programs\\python\\python310\\lib\\site-packages)\n",
      "WARNING: Ignoring invalid distribution -illow (c:\\users\\alvaro\\appdata\\local\\programs\\python\\python310\\lib\\site-packages)\n",
      "WARNING: Ignoring invalid distribution -illow (c:\\users\\alvaro\\appdata\\local\\programs\\python\\python310\\lib\\site-packages)\n",
      "WARNING: Ignoring invalid distribution -illow (c:\\users\\alvaro\\appdata\\local\\programs\\python\\python310\\lib\\site-packages)\n",
      "WARNING: Ignoring invalid distribution -illow (c:\\users\\alvaro\\appdata\\local\\programs\\python\\python310\\lib\\site-packages)\n",
      "WARNING: Ignoring invalid distribution -illow (c:\\users\\alvaro\\appdata\\local\\programs\\python\\python310\\lib\\site-packages)\n",
      "WARNING: Ignoring invalid distribution -illow (c:\\users\\alvaro\\appdata\\local\\programs\\python\\python310\\lib\\site-packages)\n",
      "\n",
      "[notice] A new release of pip available: 22.2.2 -> 23.2.1\n",
      "[notice] To update, run: python.exe -m pip install --upgrade pip\n"
     ]
    }
   ],
   "source": [
    "\n",
    "import pandas as pd\n",
    "import numpy as np\n",
    "import matplotlib.pyplot as plt\n",
    "import matplotlib.cm as cm\n",
    "\n",
    "import random\n",
    "\n"
   ]
  },
  {
   "cell_type": "code",
   "execution_count": 19,
   "metadata": {},
   "outputs": [],
   "source": [
    "import matplotlib\n",
    "import matplotlib.pyplot as plt\n",
    "import matplotlib.cm as cm\n",
    "import pandas as pd\n",
    "from fuzzywuzzy import fuzz\n",
    "from fuzzywuzzy import process\n",
    "import csv\n",
    "import keyboard\n",
    "from sklearn.feature_extraction.text import TfidfVectorizer\n",
    "from sklearn.neighbors import KNeighborsRegressor"
   ]
  },
  {
   "cell_type": "code",
   "execution_count": 6,
   "metadata": {},
   "outputs": [],
   "source": [
    "ratings_df = pd.read_csv('Data/filtered_ratings.csv')\n",
    "movies = pd.read_csv('Data/movies.csv')"
   ]
  },
  {
   "cell_type": "code",
   "execution_count": 7,
   "metadata": {},
   "outputs": [],
   "source": [
    "def get_movie_name(movie_id):\n",
    "    movie_row = movies[movies['movieId'] == movie_id]\n",
    "\n",
    "    if not movie_row.empty:\n",
    "        return movie_row['title'].iloc[0]\n",
    "    else:\n",
    "        return \"Movie not in the list\""
   ]
  },
  {
   "cell_type": "code",
   "execution_count": 13,
   "metadata": {},
   "outputs": [],
   "source": [
    "def newUser(movie_ratings):\n",
    "    new_user_id = 1\n",
    "    \n",
    "    # Find the next available user ID\n",
    "    with open('Data/filtered_ratings.csv', mode='r', newline='') as file:\n",
    "        csv_reader = csv.reader(file)\n",
    "        next(csv_reader)  # Skip the header row\n",
    "        existing_user_ids = set()\n",
    "        for row in csv_reader:\n",
    "            existing_user_ids.add(int(row[0]))\n",
    "        while new_user_id in existing_user_ids:\n",
    "            new_user_id += 1\n",
    "\n",
    "    # Write the new user's ratings to the CSV file, each in a separate row\n",
    "    with open('Data/filtered_ratings.csv', mode='a', newline='') as file:\n",
    "        writer = csv.writer(file)\n",
    "        for movie_id, rating in movie_ratings.items():\n",
    "            writer.writerow([new_user_id, movie_id, rating])\n",
    "    return new_user_id"
   ]
  },
  {
   "cell_type": "code",
   "execution_count": 18,
   "metadata": {},
   "outputs": [],
   "source": [
    "import random\n",
    "def recommendKNN(movie_ratings, new_user_id):\n",
    "    # Filter users with more than 200 ratings\n",
    "#     user_ratings = pd.Series(movie_ratings)\n",
    "#     users_ratings = ratings_df.groupby('userId').count()\n",
    "#     selected_users = users_ratings[users_ratings['rating'] > 200].index.tolist()\n",
    "    \n",
    "    # Select a random user\n",
    "#     selected_user = random.choice(selected_users)\n",
    "    selected_user = new_user_id\n",
    "    \n",
    "    # Filter ratings for the selected user\n",
    "    selected_user_ratings = ratings_df[ratings_df['userId'] == selected_user]\n",
    "    \n",
    "    # Merge ratings with movie data\n",
    "    rated_movies_df = movies.merge(selected_user_ratings, on='movieId', how='inner')\n",
    "    \n",
    "    # Create TF-IDF vectors for movie genres\n",
    "    vectorizer = TfidfVectorizer()\n",
    "    X = vectorizer.fit_transform(rated_movies_df['genres'])\n",
    "    y = rated_movies_df['rating']\n",
    "    \n",
    "    # Train KNN Regressor\n",
    "    neigh = KNeighborsRegressor(n_neighbors=1)\n",
    "    neigh.fit(X, y)\n",
    "    \n",
    "    # Predict ratings for unrated movies\n",
    "    unrated_movies = movies[~movies['movieId'].isin(rated_movies_df['movieId'])]\n",
    "    X_unrated = vectorizer.transform(unrated_movies['genres'])\n",
    "    y_unrated = neigh.predict(X_unrated)\n",
    "    \n",
    "    # Create a dictionary with movie IDs and predicted ratings\n",
    "    predicted_ratings = dict(zip(unrated_movies['movieId'], y_unrated))\n",
    "    \n",
    "    # Combine user ratings and predicted ratings\n",
    "    user_and_predicted_ratings = {**movie_ratings, **predicted_ratings}\n",
    "    \n",
    "    # Sort the movies based on the combined ratings\n",
    "    sorted_movies = sorted(user_and_predicted_ratings.items(), key=lambda x: x[1], reverse=True)\n",
    "    for i, (movie_id, rating) in enumerate(sorted_movies[2:12], 1):\n",
    "        print(f\"{i}. Movie : {get_movie_name(movie_id)}, Rating: {rating}\")\n",
    "    return sorted_movies"
   ]
  },
  {
   "cell_type": "code",
   "execution_count": 92,
   "metadata": {
    "scrolled": false
   },
   "outputs": [
    {
     "name": "stdout",
     "output_type": "stream",
     "text": [
      "Rating for 'Toy Story (1995)' added.\n",
      "[]\n",
      "ADD HERE YOUR GENRE-BASED RECOMMENDATIONS BASED ON 'movie_ratings'\n",
      "ADD HERE YOUR EXPLANATION ON THE MOVIE RECOMMENDATIONS\n",
      "MovieId-Rating Dictionary:\n",
      "{1: 5.0}\n"
     ]
    }
   ],
   "source": [
    "\n",
    "movie_ratings = {}\n",
    "\n",
    "while True:\n",
    "    movie_name = input(\"Enter a movie name (or 'done' to finish): \")\n",
    "    \n",
    "    if movie_name.lower() == 'done' or keyboard.is_pressed('esc'):\n",
    "        break\n",
    "    \n",
    "    matched_movies = process.extractOne(movie_name, movies['title'], scorer=fuzz.token_set_ratio)\n",
    "\n",
    "    if matched_movies[1] >= 80:  # Similarity threshold\n",
    "        movie_id = movies[movies['title'] == matched_movies[0]]['movieId'].values[0]\n",
    "        correct_movie_name = matched_movies[0]\n",
    "        while True:\n",
    "            rating = input(f\"Enter a rating for '{correct_movie_name}' (1-5): \")\n",
    "            try:\n",
    "                rating = float(rating)\n",
    "                if 1 <= rating <= 5:\n",
    "                    break\n",
    "               \n",
    "                else:\n",
    "                    print(\"Rating must be between 1 and 5.\")\n",
    "            except ValueError:\n",
    "                print(\"Invalid rating. Please enter a number between 1 and 5.\")\n",
    "        \n",
    "        movie_ratings[movie_id] = rating\n",
    "        print(f\"Rating for '{correct_movie_name}' added.\")\n",
    "    else:\n",
    "        print(f\"Movie '{movie_name}' not found in the database.\")\n",
    "    \n",
    "if movie_ratings:\n",
    "    while True:\n",
    "        recommendation_type = input(\"Enter 'genre' for genre-based recommendation or 'knn' for similar user recommendation: \").lower()\n",
    "        if recommendation_type == 'genre':\n",
    "            print(recommendMovie(movie_ratings, movies, ratings_df, 5))\n",
    "            #----------------------------ADD YOUR WORK HERE-----------------------------\n",
    "            print('ADD HERE YOUR GENRE-BASED RECOMMENDATIONS BASED ON \\'movie_ratings\\'')\n",
    "            print('ADD HERE YOUR EXPLANATION ON THE MOVIE RECOMMENDATIONS')\n",
    "            #----------------------------ADD YOUR WORK HERE-----------------------------\n",
    "\n",
    "        elif recommendation_type == 'knn':\n",
    "\n",
    "            #----------------------------ADD YOUR WORK HERE-----------------------------\n",
    "            user = newUser(movie_ratings)\n",
    "            ratings_df = pd.read_csv('Data/filtered_ratings.csv')\n",
    "            recommendKNN(movie_ratings,user)\n",
    "            print('ADD HERE YOUR EXPLANATION ON THE MOVIE RECOMMENDATIONS')\n",
    "            #----------------------------ADD YOUR WORK HERE-----------------------------\n",
    "        else:\n",
    "            print(\"Invalid choice. Please enter 'genre' or 'user'.\")\n",
    "        break\n",
    "\n",
    "\n",
    "print(\"MovieId-Rating Dictionary:\")\n",
    "print(movie_ratings)\n"
   ]
  },
  {
   "cell_type": "markdown",
   "metadata": {},
   "source": []
  },
  {
   "cell_type": "code",
   "execution_count": 18,
   "metadata": {},
   "outputs": [
    {
     "name": "stdout",
     "output_type": "stream",
     "text": [
      "10644\n",
      "Pulp Fiction (1994)\n",
      "Forrest Gump (1994)\n",
      "Apollo 13 (1995)\n",
      "American Beauty (1999)\n",
      "Dances with Wolves (1990)\n",
      "\n"
     ]
    }
   ],
   "source": [
    "user_ratings_kid = {1: 5.0, 2: 5.0, 364: 4.0, 6377: 4.0}\n",
    "print(recommendMovie(user_ratings_kid, movies, ratings_df, 5))"
   ]
  },
  {
   "cell_type": "code",
   "execution_count": 17,
   "metadata": {},
   "outputs": [
    {
     "name": "stdout",
     "output_type": "stream",
     "text": [
      "{'Action': False, 'Drama': False}\n",
      "3.739583333333333\n"
     ]
    }
   ],
   "source": [
    "def compute_similarity(genre_rating, contains_genre):\n",
    "    return 2.75 if not contains_genre else genre_rating\n",
    "\n",
    "def getMovieGenres(movie_id):\n",
    "    movie_row = movies[movies['movieId'] == movie_id]\n",
    "\n",
    "    if not movie_row.empty:\n",
    "        genres_str = movie_row['genres'].iloc[0]\n",
    "        \n",
    "        genres_list = genres_str.split('|')\n",
    "        \n",
    "        return genres_list\n",
    "    else:\n",
    "        return []\n",
    "        \n",
    "def getGenresDict(genres, movie_id):\n",
    "    movieGenres = getMovieGenres(movie_id)\n",
    "    genresDict = {}\n",
    "    for genre, rating in genres.items():  # Iterate through the genres dictionary with keys and values\n",
    "        if genre in movieGenres:\n",
    "            genresDict[genre] = True\n",
    "        else:\n",
    "            genresDict[genre] = False\n",
    "    return genresDict\n",
    "\n",
    "\n",
    "def recommendMovie(user_ratings, movies_df, ratings_df, n):\n",
    "    movie_ratings_count = ratings_df['movieId'].value_counts().reset_index()\n",
    "    movie_ratings_count.columns = ['movieId', 'count']\n",
    "    popular_movies = movies_df.merge(movie_ratings_count, on='movieId', how='inner')\n",
    "    popular_movies = popular_movies[popular_movies['count'] > 3]\n",
    "    popular_movies = popular_movies.sort_values(by='count', ascending=False)\n",
    "\n",
    "    print(len(popular_movies))\n",
    "    recommended_movies = []\n",
    "    for movie_id in popular_movies['movieId']:\n",
    "        if len(recommended_movies) >= n:\n",
    "            break\n",
    "        if movie_id not in user_ratings:\n",
    "            # Use predictRating method to predict the rating\n",
    "            predicted_rating = predictRating(user_ratings, movie_id)\n",
    "            if predicted_rating > 3:\n",
    "                recommended_movies.append(movie_id)\n",
    "\n",
    "    recommendations_str = \"\"\n",
    "    for id in recommended_movies:\n",
    "        recommendations_str += get_movie_name(id) + \"\\n\"\n",
    "\n",
    "    return recommendations_str\n",
    "\n",
    "def getGenreRatings(user_ratings):\n",
    "    genres = {}\n",
    "    genre_counts = {}  \n",
    "    for movie_id, rating in user_ratings.items():\n",
    "        movie_genres = getMovieGenres(movie_id)\n",
    "        for current_genre in movie_genres:\n",
    "            genres[current_genre] = genres.get(current_genre, 0) + rating\n",
    "            genre_counts[current_genre] = genre_counts.get(current_genre, 0) + 1\n",
    "\n",
    "    for genre in genres:\n",
    "        genres[genre] /= genre_counts[genre]  # Divide the total rating by the number of times the genre appears\n",
    "\n",
    "    return genres\n",
    "\n",
    "    \n",
    "getGenreRatings({1: 5.0, 3: 2.5})\n",
    "\n",
    "def predictRating(user_ratings, movie_to_predict_id):\n",
    "    weighted_sum = 0.0\n",
    "    ratings = getGenreRatings(user_ratings)\n",
    "    contains_genres = getGenresDict(ratings, movie_to_predict_id)\n",
    "\n",
    "    for movie_id in ratings:\n",
    "        similarity = compute_similarity(ratings[movie_id], contains_genres[movie_id]) / len(ratings)\n",
    "        weighted_sum += similarity\n",
    "\n",
    "    return weighted_sum\n",
    "\n",
    "ratings = {\n",
    "    \"Action\": 5,\n",
    "    \"Drama\": 1,\n",
    "    }\n",
    "\n",
    "contains_genres = {\n",
    "    \"Drama\": True,\n",
    "    \"Action\": False,\n",
    "}\n",
    "\n",
    "user_ratings_ex = {1: 5.0, 4867: 1.0, 2: 5.0, 364: 4.0, 6377: 4.0}\n",
    "movie_id_ex = 1\n",
    "\n",
    "predicted_rating = predictRating(user_ratings_ex, movie_id_ex)\n",
    "print(predicted_rating)\n",
    "\n",
    "\n",
    "def getAllGenres(movies_df):\n",
    "    genres_column = movies_df['genres']\n",
    "    genre_lists = [genres.split('|') for genres in genres_column]\n",
    "    flat_genre_list = [genre for sublist in genre_lists for genre in sublist]\n",
    "    unique_genres = set(flat_genre_list)\n",
    "    return list(unique_genres)\n",
    "\n",
    "all_genres = getAllGenres(movies)\n",
    "\n"
   ]
  },
  {
   "cell_type": "code",
   "execution_count": 20,
   "metadata": {},
   "outputs": [],
   "source": [
    "def get_user_ratings(user_id):\n",
    "    user_ratings_df = ratings_df[ratings_df['userId'] == user_id]\n",
    "    \n",
    "    user_ratings = {}\n",
    "    \n",
    "    for index, row in user_ratings_df.iterrows():\n",
    "        movie_id = row['movieId']\n",
    "        rating = row['rating']\n",
    "        user_ratings[movie_id] = rating\n",
    "    \n",
    "    return user_ratings\n",
    "\n",
    "max_user_id = 610"
   ]
  },
  {
   "cell_type": "markdown",
   "metadata": {},
   "source": [
    "### Indivual Recimmender using KNN"
   ]
  },
  {
   "cell_type": "code",
   "execution_count": 10,
   "metadata": {},
   "outputs": [
    {
     "name": "stdout",
     "output_type": "stream",
     "text": [
      "Selected user: 8751\n"
     ]
    }
   ],
   "source": [
    "users_ratings = ratings_df.groupby(['userId']).count()\n",
    "\n",
    "selected = users_ratings['rating'] > 200\n",
    "selected_users = users_ratings.loc[selected]\n",
    "random_selected = selected_users.sample() # sample() returns a random row from the dataframe. The returned object is a dataframe with one row. If you pass a number as argument you specify to select more than one row.\n",
    "select_column_df = random_selected.reset_index()['userId'] # reset_index() create a new index, and the user became a column. Then, we can filter using the column name\n",
    "selected_user = select_column_df.iloc[0] # iloc select by index, since our dataframe only has one row we read it from the index 0\n",
    "# selected_user = 19\n",
    "print(\"Selected user: \" + str(selected_user))"
   ]
  },
  {
   "cell_type": "code",
   "execution_count": 11,
   "metadata": {},
   "outputs": [
    {
     "name": "stdout",
     "output_type": "stream",
     "text": [
      "Rated movies: 274\n"
     ]
    },
    {
     "name": "stderr",
     "output_type": "stream",
     "text": [
      "C:\\Users\\Alvaro\\AppData\\Local\\Temp\\ipykernel_5340\\1963560814.py:2: SettingWithCopyWarning: \n",
      "A value is trying to be set on a copy of a slice from a DataFrame.\n",
      "Try using .loc[row_indexer,col_indexer] = value instead\n",
      "\n",
      "See the caveats in the documentation: https://pandas.pydata.org/pandas-docs/stable/user_guide/indexing.html#returning-a-view-versus-a-copy\n",
      "  selected_user_ratings['item'] = selected_user_ratings.index\n"
     ]
    }
   ],
   "source": [
    "selected_user_ratings = ratings_df.loc[ratings_df['userId'] == selected_user]\n",
    "selected_user_ratings['item'] = selected_user_ratings.index \n",
    "selected_user_ratings.to_csv('selected_user_ratings.csv', index=False)\n",
    "selected_user_ratings = selected_user_ratings.sort_values(by='item', ascending=True)\n",
    "print(\"Rated movies: \" + str(selected_user_ratings.shape[0]))\n",
    "# display(selected_user_ratings.head(10))"
   ]
  },
  {
   "cell_type": "code",
   "execution_count": 12,
   "metadata": {},
   "outputs": [],
   "source": [
    "selected_movie_ids = set(selected_user_ratings['movieId'])\n",
    "rated_movies_df = movies.reindex(list(selected_user_ratings['movieId']))\n",
    "# rated_movies_df = movies_df[movies_df['movieId'].isin(selected_movie_ids)]\n",
    "rated_movies_df = rated_movies_df[['title', 'genres']]\n",
    "rated_movies_df['item'] = rated_movies_df.index \n",
    "rated_movies_df.to_csv('rated_movies_df.csv', index=False)"
   ]
  },
  {
   "cell_type": "code",
   "execution_count": 13,
   "metadata": {},
   "outputs": [
    {
     "ename": "TypeError",
     "evalue": "Passing a set as an indexer is not supported. Use a list instead.",
     "output_type": "error",
     "traceback": [
      "\u001b[1;31m---------------------------------------------------------------------------\u001b[0m",
      "\u001b[1;31mTypeError\u001b[0m                                 Traceback (most recent call last)",
      "Cell \u001b[1;32mIn[13], line 2\u001b[0m\n\u001b[0;32m      1\u001b[0m diff \u001b[38;5;241m=\u001b[39m \u001b[38;5;28mset\u001b[39m(movies\u001b[38;5;241m.\u001b[39mindex) \u001b[38;5;241m-\u001b[39m \u001b[38;5;28mset\u001b[39m(rated_movies_df\u001b[38;5;241m.\u001b[39mindex)\n\u001b[1;32m----> 2\u001b[0m unrated_movies_df \u001b[38;5;241m=\u001b[39m \u001b[43mmovies\u001b[49m\u001b[38;5;241;43m.\u001b[39;49m\u001b[43mloc\u001b[49m\u001b[43m[\u001b[49m\u001b[43mdiff\u001b[49m\u001b[43m]\u001b[49m\n\u001b[0;32m      3\u001b[0m \u001b[38;5;66;03m# display(unrated_movies_df.head())\u001b[39;00m\n\u001b[0;32m      4\u001b[0m unrated_movies_df \u001b[38;5;241m=\u001b[39m unrated_movies_df[[\u001b[38;5;124m'\u001b[39m\u001b[38;5;124mtitle\u001b[39m\u001b[38;5;124m'\u001b[39m, \u001b[38;5;124m'\u001b[39m\u001b[38;5;124mgenres\u001b[39m\u001b[38;5;124m'\u001b[39m]]\n",
      "File \u001b[1;32mc:\\Users\\Alvaro\\AppData\\Local\\Programs\\Python\\Python311\\Lib\\site-packages\\pandas\\core\\indexing.py:1141\u001b[0m, in \u001b[0;36m_LocationIndexer.__getitem__\u001b[1;34m(self, key)\u001b[0m\n\u001b[0;32m   1139\u001b[0m \u001b[39m@final\u001b[39m\n\u001b[0;32m   1140\u001b[0m \u001b[39mdef\u001b[39;00m \u001b[39m__getitem__\u001b[39m(\u001b[39mself\u001b[39m, key):\n\u001b[1;32m-> 1141\u001b[0m     check_dict_or_set_indexers(key)\n\u001b[0;32m   1142\u001b[0m     \u001b[39mif\u001b[39;00m \u001b[39mtype\u001b[39m(key) \u001b[39mis\u001b[39;00m \u001b[39mtuple\u001b[39m:\n\u001b[0;32m   1143\u001b[0m         key \u001b[39m=\u001b[39m \u001b[39mtuple\u001b[39m(\u001b[39mlist\u001b[39m(x) \u001b[39mif\u001b[39;00m is_iterator(x) \u001b[39melse\u001b[39;00m x \u001b[39mfor\u001b[39;00m x \u001b[39min\u001b[39;00m key)\n",
      "File \u001b[1;32mc:\\Users\\Alvaro\\AppData\\Local\\Programs\\Python\\Python311\\Lib\\site-packages\\pandas\\core\\indexing.py:2687\u001b[0m, in \u001b[0;36mcheck_dict_or_set_indexers\u001b[1;34m(key)\u001b[0m\n\u001b[0;32m   2679\u001b[0m \u001b[39m\u001b[39m\u001b[39m\"\"\"\u001b[39;00m\n\u001b[0;32m   2680\u001b[0m \u001b[39mCheck if the indexer is or contains a dict or set, which is no longer allowed.\u001b[39;00m\n\u001b[0;32m   2681\u001b[0m \u001b[39m\"\"\"\u001b[39;00m\n\u001b[0;32m   2682\u001b[0m \u001b[39mif\u001b[39;00m (\n\u001b[0;32m   2683\u001b[0m     \u001b[39misinstance\u001b[39m(key, \u001b[39mset\u001b[39m)\n\u001b[0;32m   2684\u001b[0m     \u001b[39mor\u001b[39;00m \u001b[39misinstance\u001b[39m(key, \u001b[39mtuple\u001b[39m)\n\u001b[0;32m   2685\u001b[0m     \u001b[39mand\u001b[39;00m \u001b[39many\u001b[39m(\u001b[39misinstance\u001b[39m(x, \u001b[39mset\u001b[39m) \u001b[39mfor\u001b[39;00m x \u001b[39min\u001b[39;00m key)\n\u001b[0;32m   2686\u001b[0m ):\n\u001b[1;32m-> 2687\u001b[0m     \u001b[39mraise\u001b[39;00m \u001b[39mTypeError\u001b[39;00m(\n\u001b[0;32m   2688\u001b[0m         \u001b[39m\"\u001b[39m\u001b[39mPassing a set as an indexer is not supported. Use a list instead.\u001b[39m\u001b[39m\"\u001b[39m\n\u001b[0;32m   2689\u001b[0m     )\n\u001b[0;32m   2691\u001b[0m \u001b[39mif\u001b[39;00m (\n\u001b[0;32m   2692\u001b[0m     \u001b[39misinstance\u001b[39m(key, \u001b[39mdict\u001b[39m)\n\u001b[0;32m   2693\u001b[0m     \u001b[39mor\u001b[39;00m \u001b[39misinstance\u001b[39m(key, \u001b[39mtuple\u001b[39m)\n\u001b[0;32m   2694\u001b[0m     \u001b[39mand\u001b[39;00m \u001b[39many\u001b[39m(\u001b[39misinstance\u001b[39m(x, \u001b[39mdict\u001b[39m) \u001b[39mfor\u001b[39;00m x \u001b[39min\u001b[39;00m key)\n\u001b[0;32m   2695\u001b[0m ):\n\u001b[0;32m   2696\u001b[0m     \u001b[39mraise\u001b[39;00m \u001b[39mTypeError\u001b[39;00m(\n\u001b[0;32m   2697\u001b[0m         \u001b[39m\"\u001b[39m\u001b[39mPassing a dict as an indexer is not supported. Use a list instead.\u001b[39m\u001b[39m\"\u001b[39m\n\u001b[0;32m   2698\u001b[0m     )\n",
      "\u001b[1;31mTypeError\u001b[0m: Passing a set as an indexer is not supported. Use a list instead."
     ]
    }
   ],
   "source": [
    "diff = set(movies.index) - set(rated_movies_df.index)\n",
    "unrated_movies_df = movies.loc[diff]\n",
    "# display(unrated_movies_df.head())\n",
    "unrated_movies_df = unrated_movies_df[['title', 'genres']]\n",
    "print(\"Unrated movies: \" + str(unrated_movies_df.shape[0]))\n",
    "# display(unrated_movies_df.head(10))"
   ]
  },
  {
   "cell_type": "code",
   "execution_count": null,
   "metadata": {},
   "outputs": [
    {
     "name": "stdout",
     "output_type": "stream",
     "text": [
      "Rated movies: 780\n"
     ]
    }
   ],
   "source": [
    "rated_movies_df = rated_movies_df.join(selected_user_ratings.set_index('movieId')['rating'], on='item')\n",
    "print(\"Rated movies: \" + str(rated_movies_df.shape[0]))\n",
    "# display(rated_movies_df.head(10))"
   ]
  },
  {
   "cell_type": "code",
   "execution_count": 14,
   "metadata": {},
   "outputs": [
    {
     "ename": "KeyError",
     "evalue": "'rating'",
     "output_type": "error",
     "traceback": [
      "\u001b[1;31m---------------------------------------------------------------------------\u001b[0m",
      "\u001b[1;31mKeyError\u001b[0m                                  Traceback (most recent call last)",
      "File \u001b[1;32mc:\\Users\\Alvaro\\AppData\\Local\\Programs\\Python\\Python311\\Lib\\site-packages\\pandas\\core\\indexes\\base.py:3790\u001b[0m, in \u001b[0;36mIndex.get_loc\u001b[1;34m(self, key)\u001b[0m\n\u001b[0;32m   3789\u001b[0m \u001b[39mtry\u001b[39;00m:\n\u001b[1;32m-> 3790\u001b[0m     \u001b[39mreturn\u001b[39;00m \u001b[39mself\u001b[39;49m\u001b[39m.\u001b[39;49m_engine\u001b[39m.\u001b[39;49mget_loc(casted_key)\n\u001b[0;32m   3791\u001b[0m \u001b[39mexcept\u001b[39;00m \u001b[39mKeyError\u001b[39;00m \u001b[39mas\u001b[39;00m err:\n",
      "File \u001b[1;32mindex.pyx:152\u001b[0m, in \u001b[0;36mpandas._libs.index.IndexEngine.get_loc\u001b[1;34m()\u001b[0m\n",
      "File \u001b[1;32mindex.pyx:181\u001b[0m, in \u001b[0;36mpandas._libs.index.IndexEngine.get_loc\u001b[1;34m()\u001b[0m\n",
      "File \u001b[1;32mpandas\\_libs\\hashtable_class_helper.pxi:7080\u001b[0m, in \u001b[0;36mpandas._libs.hashtable.PyObjectHashTable.get_item\u001b[1;34m()\u001b[0m\n",
      "File \u001b[1;32mpandas\\_libs\\hashtable_class_helper.pxi:7088\u001b[0m, in \u001b[0;36mpandas._libs.hashtable.PyObjectHashTable.get_item\u001b[1;34m()\u001b[0m\n",
      "\u001b[1;31mKeyError\u001b[0m: 'rating'",
      "\nThe above exception was the direct cause of the following exception:\n",
      "\u001b[1;31mKeyError\u001b[0m                                  Traceback (most recent call last)",
      "Cell \u001b[1;32mIn[14], line 5\u001b[0m\n\u001b[0;32m      3\u001b[0m X \u001b[38;5;241m=\u001b[39m vectorizer\u001b[38;5;241m.\u001b[39mfit_transform(rated_movies_df[\u001b[38;5;124m'\u001b[39m\u001b[38;5;124mgenres\u001b[39m\u001b[38;5;124m'\u001b[39m])\n\u001b[0;32m      4\u001b[0m rated_movies_df[\u001b[38;5;124m'\u001b[39m\u001b[38;5;124mgenres\u001b[39m\u001b[38;5;124m'\u001b[39m]\u001b[38;5;241m.\u001b[39mfillna(\u001b[38;5;124m'\u001b[39m\u001b[38;5;124m'\u001b[39m, inplace\u001b[38;5;241m=\u001b[39m\u001b[38;5;28;01mTrue\u001b[39;00m)\n\u001b[1;32m----> 5\u001b[0m y \u001b[38;5;241m=\u001b[39m \u001b[43mrated_movies_df\u001b[49m\u001b[43m[\u001b[49m\u001b[38;5;124;43m'\u001b[39;49m\u001b[38;5;124;43mrating\u001b[39;49m\u001b[38;5;124;43m'\u001b[39;49m\u001b[43m]\u001b[49m\n\u001b[0;32m      6\u001b[0m neigh \u001b[38;5;241m=\u001b[39m KNeighborsRegressor(n_neighbors\u001b[38;5;241m=\u001b[39m\u001b[38;5;241m5\u001b[39m)\n\u001b[0;32m      7\u001b[0m neigh\u001b[38;5;241m.\u001b[39mfit(X, y)\n",
      "File \u001b[1;32mc:\\Users\\Alvaro\\AppData\\Local\\Programs\\Python\\Python311\\Lib\\site-packages\\pandas\\core\\frame.py:3896\u001b[0m, in \u001b[0;36mDataFrame.__getitem__\u001b[1;34m(self, key)\u001b[0m\n\u001b[0;32m   3894\u001b[0m \u001b[39mif\u001b[39;00m \u001b[39mself\u001b[39m\u001b[39m.\u001b[39mcolumns\u001b[39m.\u001b[39mnlevels \u001b[39m>\u001b[39m \u001b[39m1\u001b[39m:\n\u001b[0;32m   3895\u001b[0m     \u001b[39mreturn\u001b[39;00m \u001b[39mself\u001b[39m\u001b[39m.\u001b[39m_getitem_multilevel(key)\n\u001b[1;32m-> 3896\u001b[0m indexer \u001b[39m=\u001b[39m \u001b[39mself\u001b[39;49m\u001b[39m.\u001b[39;49mcolumns\u001b[39m.\u001b[39;49mget_loc(key)\n\u001b[0;32m   3897\u001b[0m \u001b[39mif\u001b[39;00m is_integer(indexer):\n\u001b[0;32m   3898\u001b[0m     indexer \u001b[39m=\u001b[39m [indexer]\n",
      "File \u001b[1;32mc:\\Users\\Alvaro\\AppData\\Local\\Programs\\Python\\Python311\\Lib\\site-packages\\pandas\\core\\indexes\\base.py:3797\u001b[0m, in \u001b[0;36mIndex.get_loc\u001b[1;34m(self, key)\u001b[0m\n\u001b[0;32m   3792\u001b[0m     \u001b[39mif\u001b[39;00m \u001b[39misinstance\u001b[39m(casted_key, \u001b[39mslice\u001b[39m) \u001b[39mor\u001b[39;00m (\n\u001b[0;32m   3793\u001b[0m         \u001b[39misinstance\u001b[39m(casted_key, abc\u001b[39m.\u001b[39mIterable)\n\u001b[0;32m   3794\u001b[0m         \u001b[39mand\u001b[39;00m \u001b[39many\u001b[39m(\u001b[39misinstance\u001b[39m(x, \u001b[39mslice\u001b[39m) \u001b[39mfor\u001b[39;00m x \u001b[39min\u001b[39;00m casted_key)\n\u001b[0;32m   3795\u001b[0m     ):\n\u001b[0;32m   3796\u001b[0m         \u001b[39mraise\u001b[39;00m InvalidIndexError(key)\n\u001b[1;32m-> 3797\u001b[0m     \u001b[39mraise\u001b[39;00m \u001b[39mKeyError\u001b[39;00m(key) \u001b[39mfrom\u001b[39;00m \u001b[39merr\u001b[39;00m\n\u001b[0;32m   3798\u001b[0m \u001b[39mexcept\u001b[39;00m \u001b[39mTypeError\u001b[39;00m:\n\u001b[0;32m   3799\u001b[0m     \u001b[39m# If we have a listlike key, _check_indexing_error will raise\u001b[39;00m\n\u001b[0;32m   3800\u001b[0m     \u001b[39m#  InvalidIndexError. Otherwise we fall through and re-raise\u001b[39;00m\n\u001b[0;32m   3801\u001b[0m     \u001b[39m#  the TypeError.\u001b[39;00m\n\u001b[0;32m   3802\u001b[0m     \u001b[39mself\u001b[39m\u001b[39m.\u001b[39m_check_indexing_error(key)\n",
      "\u001b[1;31mKeyError\u001b[0m: 'rating'"
     ]
    }
   ],
   "source": [
    "rated_movies_df['genres'].fillna('', inplace=True)\n",
    "vectorizer = TfidfVectorizer()\n",
    "X = vectorizer.fit_transform(rated_movies_df['genres'])\n",
    "rated_movies_df['genres'].fillna('', inplace=True)\n",
    "y = rated_movies_df['rating']\n",
    "neigh = KNeighborsRegressor(n_neighbors=5)\n",
    "neigh.fit(X, y)\n",
    "X_unrated = vectorizer.transform(unrated_movies_df['genres'])\n",
    "y_unrated = neigh.predict(X_unrated)\n",
    "unrated_movies_df['predicted_ratings_KNN'] = y_unrated\n"
   ]
  },
  {
   "cell_type": "code",
   "execution_count": null,
   "metadata": {},
   "outputs": [
    {
     "name": "stdout",
     "output_type": "stream",
     "text": [
      "Top 10 Recommended Movies:\n",
      "1. Movie ID: 6377, Rating: 5.0\n",
      "2. Movie ID: 12460, Rating: 4.2\n",
      "3. Movie ID: 14325, Rating: 4.2\n",
      "4. Movie ID: 3842, Rating: 4.1\n",
      "5. Movie ID: 8282, Rating: 4.1\n",
      "6. Movie ID: 11187, Rating: 4.1\n",
      "7. Movie ID: 13522, Rating: 4.1\n",
      "8. Movie ID: 15031, Rating: 4.1\n",
      "9. Movie ID: 15269, Rating: 4.1\n",
      "10. Movie ID: 15319, Rating: 4.1\n",
      "1. Movie : Finding Nemo (2003), Rating: 5.0\n",
      "2. Movie : Movie not in the list, Rating: 4.2\n",
      "3. Movie : Movie not in the list, Rating: 4.2\n",
      "4. Movie : Movie not in the list, Rating: 4.1\n",
      "5. Movie : Movie not in the list, Rating: 4.1\n",
      "6. Movie : Movie not in the list, Rating: 4.1\n",
      "7. Movie : Movie not in the list, Rating: 4.1\n",
      "8. Movie : Movie not in the list, Rating: 4.1\n",
      "9. Movie : Movie not in the list, Rating: 4.1\n",
      "10. Movie : Movie not in the list, Rating: 4.1\n"
     ]
    }
   ],
   "source": [
    "user_ratings = movie_ratings  # Use the provided 'movie_ratings' dictionary\n",
    "\n",
    "# Train a KNN model to predict ratings\n",
    "vectorizer = TfidfVectorizer()\n",
    "X = vectorizer.fit_transform(rated_movies_df['genres'])\n",
    "y = rated_movies_df['rating']\n",
    "\n",
    "neigh = KNeighborsRegressor(n_neighbors=5)\n",
    "neigh.fit(X, y)\n",
    "\n",
    "#Predict ratings for unrated movies\n",
    "X_unrated = vectorizer.transform(unrated_movies_df['genres'])\n",
    "y_unrated = neigh.predict(X_unrated)\n",
    "\n",
    "#Dictionary with movie IDs and predicted ratings\n",
    "predicted_ratings = {}\n",
    "for idx, movie_id in enumerate(unrated_movies_df.index):\n",
    "    predicted_ratings[movie_id] = y_unrated[idx]\n",
    "\n",
    "user_and_predicted_ratings = {**user_ratings, **predicted_ratings}\n",
    "\n",
    "# Sort the movies based on the combined ratings\n",
    "sorted_movies = sorted(user_and_predicted_ratings.items(), key=lambda x: x[1], reverse=True)\n",
    "\n",
    "# Print the top 10 recommended movies\n",
    "print(\"Top 10 Recommended Movies:\")\n",
    "for i, (movie_id, rating) in enumerate(sorted_movies[:10], 1):\n",
    "    print(f\"{i}. Movie ID: {movie_id}, Rating: {rating}\")\n",
    "for i, (movie_id, rating) in enumerate(sorted_movies[:10], 1):\n",
    "    print(f\"{i}. Movie : {get_movie_name(movie_id)}, Rating: {rating}\")"
   ]
  },
  {
   "cell_type": "markdown",
   "metadata": {},
   "source": [
    "## Group Recommender system\n",
    "In this case I decided not to ask the users for the ratings because it is counterproductive. In this case, the group ratings will be already defined in the code\n"
   ]
  },
  {
   "cell_type": "code",
   "execution_count": null,
   "metadata": {},
   "outputs": [],
   "source": [
    "#Some random group users movie ratings\n",
    "group_movie_ratings = [\n",
    "    {1: 5, 2: 3, 13: 4, 3: 4.5},\n",
    "    {190: 2, 9372: 4, 837: 1.5},\n",
    "    {89: 3.5, 7521: 3, 90: 3.5}\n",
    "]"
   ]
  },
  {
   "cell_type": "code",
   "execution_count": null,
   "metadata": {},
   "outputs": [
    {
     "name": "stdout",
     "output_type": "stream",
     "text": [
      "ADD HERE YOUR MOVIE RECOMMENDATIONS BASED ON 'group_movie_ratings'\n",
      "ADD HERE YOUR EXPLANATION ON THE MOVIE RECOMMENDATIONS\n"
     ]
    }
   ],
   "source": [
    "#----------------------------ADD YOUR WORK HERE-----------------------------\n",
    "print(\"ADD HERE YOUR MOVIE RECOMMENDATIONS BASED ON \\'group_movie_ratings\\'\")\n",
    "print('ADD HERE YOUR EXPLANATION ON THE MOVIE RECOMMENDATIONS')\n",
    "#----------------------------ADD YOUR WORK HERE-----------------------------"
   ]
  }
 ],
 "metadata": {
  "kernelspec": {
   "display_name": "Python 3.10.5 64-bit",
   "language": "python",
   "name": "python3"
  },
  "language_info": {
   "codemirror_mode": {
    "name": "ipython",
    "version": 3
   },
   "file_extension": ".py",
   "mimetype": "text/x-python",
   "name": "python",
   "nbconvert_exporter": "python",
   "pygments_lexer": "ipython3",
   "version": "3.10.5"
  },
  "vscode": {
   "interpreter": {
    "hash": "86a7600eabecf3dbcbf5a60340165768a3f6b7991c3d2be0d9a303a25788bd38"
   }
  }
 },
 "nbformat": 4,
 "nbformat_minor": 2
}
