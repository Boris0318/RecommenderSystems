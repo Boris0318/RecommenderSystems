{
 "cells": [
  {
   "cell_type": "markdown",
   "metadata": {},
   "source": [
    "## Individual Recommender system\n",
    "Running the cell below you can actually put the individual recommender system in practice. Do not add any actual code about the recommenders in this notebook, do that in 'recommender.ipynb' and then import the necessary methods you need. (ask chatgpt how to do so) "
   ]
  },
  {
   "cell_type": "code",
   "execution_count": 10,
   "metadata": {},
   "outputs": [],
   "source": [
    "import pandas as pd\n",
    "from fuzzywuzzy import fuzz\n",
    "from fuzzywuzzy import process\n",
    "import keyboard\n",
    "from sklearn.feature_extraction.text import TfidfVectorizer\n",
    "from sklearn.neighbors import KNeighborsRegressor"
   ]
  },
  {
   "cell_type": "code",
   "execution_count": 57,
   "metadata": {
    "scrolled": true
   },
   "outputs": [
    {
     "name": "stdout",
     "output_type": "stream",
     "text": [
      "Enter a movie name (or 'done' to finish): aquaman\n",
      "Movie 'aquaman' not found in the database.\n",
      "Enter a movie name (or 'done' to finish): terminator\n",
      "Enter a rating for 'Terminator 2: Judgment Day (1991)' (1-5): 5\n",
      "Rating for 'Terminator 2: Judgment Day (1991)' added.\n",
      "Enter a movie name (or 'done' to finish): rambo\n",
      "Enter a rating for 'Rambo: First Blood Part II (1985)' (1-5): 4\n",
      "Rating for 'Rambo: First Blood Part II (1985)' added.\n",
      "Enter a movie name (or 'done' to finish): jumanji\n",
      "Enter a rating for 'Jumanji (1995)' (1-5): 4\n",
      "Rating for 'Jumanji (1995)' added.\n",
      "Enter a movie name (or 'done' to finish): nemo\n",
      "Enter a rating for 'Little Nemo: Adventures in Slumberland (1992)' (1-5): 2\n",
      "Rating for 'Little Nemo: Adventures in Slumberland (1992)' added.\n",
      "Enter a movie name (or 'done' to finish): done\n",
      "Enter 'genre' for genre-based recommendation or 'user' for similar user recommendation: genre\n",
      "ADD HERE YOUR GENRE-BASED RECOMMENDATIONS BASED ON 'movie_ratings'\n",
      "ADD HERE YOUR EXPLANATION ON THE MOVIE RECOMMENDATIONS\n",
      "MovieId-Rating Dictionary:\n",
      "{589: 5.0, 2402: 4.0, 2: 4.0, 2800: 2.0}\n"
     ]
    }
   ],
   "source": [
    "\n",
    "ratings_df = pd.read_csv('Data/filtered_ratings.csv')\n",
    "movies = pd.read_csv('Data/movies.csv')\n",
    "\n",
    "movie_ratings = {}\n",
    "\n",
    "while True:\n",
    "    movie_name = input(\"Enter a movie name (or 'done' to finish): \")\n",
    "    \n",
    "    if movie_name.lower() == 'done' or keyboard.is_pressed('esc'):\n",
    "        break\n",
    "    \n",
    "    matched_movies = process.extractOne(movie_name, movies['title'], scorer=fuzz.token_set_ratio)\n",
    "\n",
    "    if matched_movies[1] >= 80:  # Similarity threshold\n",
    "        movie_id = movies[movies['title'] == matched_movies[0]]['movieId'].values[0]\n",
    "        correct_movie_name = matched_movies[0]\n",
    "        while True:\n",
    "            rating = input(f\"Enter a rating for '{correct_movie_name}' (1-5): \")\n",
    "            try:\n",
    "                rating = float(rating)\n",
    "                if 1 <= rating <= 5:\n",
    "                    break\n",
    "               \n",
    "                else:\n",
    "                    print(\"Rating must be between 1 and 5.\")\n",
    "            except ValueError:\n",
    "                print(\"Invalid rating. Please enter a number between 1 and 5.\")\n",
    "        \n",
    "        movie_ratings[movie_id] = rating\n",
    "        print(f\"Rating for '{correct_movie_name}' added.\")\n",
    "    else:\n",
    "        print(f\"Movie '{movie_name}' not found in the database.\")\n",
    "    \n",
    "if movie_ratings:\n",
    "    while True:\n",
    "        recommendation_type = input(\"Enter 'genre' for genre-based recommendation or 'user' for similar user recommendation: \").lower()\n",
    "        if recommendation_type == 'genre':\n",
    "\n",
    "            #----------------------------ADD YOUR WORK HERE-----------------------------\n",
    "            print('ADD HERE YOUR GENRE-BASED RECOMMENDATIONS BASED ON \\'movie_ratings\\'')\n",
    "            print('ADD HERE YOUR EXPLANATION ON THE MOVIE RECOMMENDATIONS')\n",
    "            #----------------------------ADD YOUR WORK HERE-----------------------------\n",
    "\n",
    "        elif recommendation_type == 'user':\n",
    "\n",
    "            #----------------------------ADD YOUR WORK HERE-----------------------------\n",
    "            print(\"ADD HERE YOUR USER-BASED RECOMMENDATIONS BASED ON \\'movie_ratings\\'\")\n",
    "            print('ADD HERE YOUR EXPLANATION ON THE MOVIE RECOMMENDATIONS')\n",
    "            #----------------------------ADD YOUR WORK HERE-----------------------------\n",
    "\n",
    "        else:\n",
    "            print(\"Invalid choice. Please enter 'genre' or 'user'.\")\n",
    "        break\n",
    "\n",
    "\n",
    "print(\"MovieId-Rating Dictionary:\")\n",
    "print(movie_ratings)\n"
   ]
  },
  {
   "cell_type": "code",
   "execution_count": 27,
   "metadata": {},
   "outputs": [],
   "source": [
    "def get_movie_name(movie_id):\n",
    "    movie_row = movies[movies['movieId'] == movie_id]\n",
    "\n",
    "    if not movie_row.empty:\n",
    "        return movie_row['title'].iloc[0]\n",
    "    else:\n",
    "        return \"Movie not in the list\""
   ]
  },
  {
   "cell_type": "markdown",
   "metadata": {},
   "source": [
    "### Indivual Recimmender using KNN"
   ]
  },
  {
   "cell_type": "code",
   "execution_count": 58,
   "metadata": {},
   "outputs": [
    {
     "name": "stdout",
     "output_type": "stream",
     "text": [
      "Selected user: 2171\n"
     ]
    }
   ],
   "source": [
    "users_ratings = ratings_df.groupby(['userId']).count()\n",
    "\n",
    "selected = users_ratings['rating'] > 200\n",
    "selected_users = users_ratings.loc[selected]\n",
    "random_selected = selected_users.sample() # sample() returns a random row from the dataframe. The returned object is a dataframe with one row. If you pass a number as argument you specify to select more than one row.\n",
    "select_column_df = random_selected.reset_index()['userId'] # reset_index() create a new index, and the user became a column. Then, we can filter using the column name\n",
    "selected_user = select_column_df.iloc[0] # iloc select by index, since our dataframe only has one row we read it from the index 0\n",
    "# selected_user = 19\n",
    "print(\"Selected user: \" + str(selected_user))"
   ]
  },
  {
   "cell_type": "code",
   "execution_count": 59,
   "metadata": {},
   "outputs": [
    {
     "name": "stdout",
     "output_type": "stream",
     "text": [
      "Rated movies: 673\n"
     ]
    },
    {
     "name": "stderr",
     "output_type": "stream",
     "text": [
      "<ipython-input-59-42af8ea5343e>:2: SettingWithCopyWarning: \n",
      "A value is trying to be set on a copy of a slice from a DataFrame.\n",
      "Try using .loc[row_indexer,col_indexer] = value instead\n",
      "\n",
      "See the caveats in the documentation: https://pandas.pydata.org/pandas-docs/stable/user_guide/indexing.html#returning-a-view-versus-a-copy\n",
      "  selected_user_ratings['item'] = selected_user_ratings.index\n"
     ]
    }
   ],
   "source": [
    "selected_user_ratings = ratings_df.loc[ratings_df['userId'] == selected_user]\n",
    "selected_user_ratings['item'] = selected_user_ratings.index \n",
    "selected_user_ratings.to_csv('selected_user_ratings.csv', index=False)\n",
    "selected_user_ratings = selected_user_ratings.sort_values(by='item', ascending=True)\n",
    "print(\"Rated movies: \" + str(selected_user_ratings.shape[0]))\n",
    "# display(selected_user_ratings.head(10))"
   ]
  },
  {
   "cell_type": "code",
   "execution_count": 60,
   "metadata": {},
   "outputs": [],
   "source": [
    "selected_movie_ids = set(selected_user_ratings['movieId'])\n",
    "rated_movies_df = movies.reindex(list(selected_user_ratings['movieId']))\n",
    "# rated_movies_df = movies_df[movies_df['movieId'].isin(selected_movie_ids)]\n",
    "rated_movies_df = rated_movies_df[['title', 'genres']]\n",
    "rated_movies_df['item'] = rated_movies_df.index \n",
    "rated_movies_df.to_csv('rated_movies_df.csv', index=False)"
   ]
  },
  {
   "cell_type": "code",
   "execution_count": 61,
   "metadata": {},
   "outputs": [
    {
     "name": "stdout",
     "output_type": "stream",
     "text": [
      "Unrated movies: 26630\n"
     ]
    }
   ],
   "source": [
    "diff = set(movies.index) - set(rated_movies_df.index)\n",
    "unrated_movies_df = movies.loc[diff]\n",
    "# display(unrated_movies_df.head())\n",
    "unrated_movies_df = unrated_movies_df[['title', 'genres']]\n",
    "print(\"Unrated movies: \" + str(unrated_movies_df.shape[0]))\n",
    "# display(unrated_movies_df.head(10))"
   ]
  },
  {
   "cell_type": "code",
   "execution_count": 62,
   "metadata": {},
   "outputs": [
    {
     "name": "stdout",
     "output_type": "stream",
     "text": [
      "Rated movies: 673\n"
     ]
    }
   ],
   "source": [
    "rated_movies_df = rated_movies_df.join(selected_user_ratings.set_index('movieId')['rating'], on='item')\n",
    "print(\"Rated movies: \" + str(rated_movies_df.shape[0]))\n",
    "# display(rated_movies_df.head(10))"
   ]
  },
  {
   "cell_type": "code",
   "execution_count": 63,
   "metadata": {},
   "outputs": [],
   "source": [
    "rated_movies_df['genres'].fillna('', inplace=True)\n",
    "vectorizer = TfidfVectorizer()\n",
    "X = vectorizer.fit_transform(rated_movies_df['genres'])\n",
    "rated_movies_df['genres'].fillna('', inplace=True)\n",
    "y = rated_movies_df['rating']\n",
    "neigh = KNeighborsRegressor(n_neighbors=5)\n",
    "neigh.fit(X, y)\n",
    "X_unrated = vectorizer.transform(unrated_movies_df['genres'])\n",
    "y_unrated = neigh.predict(X_unrated)\n",
    "unrated_movies_df['predicted_ratings_KNN'] = y_unrated"
   ]
  },
  {
   "cell_type": "code",
   "execution_count": 64,
   "metadata": {},
   "outputs": [
    {
     "name": "stdout",
     "output_type": "stream",
     "text": [
      "Top 10 Recommended Movies:\n",
      "1. Movie ID: 589, Rating: 5.0\n",
      "2. Movie ID: 814, Rating: 4.6\n",
      "3. Movie ID: 3147, Rating: 4.6\n",
      "4. Movie ID: 4772, Rating: 4.6\n",
      "5. Movie ID: 6631, Rating: 4.6\n",
      "6. Movie ID: 7898, Rating: 4.6\n",
      "7. Movie ID: 8672, Rating: 4.6\n",
      "8. Movie ID: 10784, Rating: 4.6\n",
      "9. Movie ID: 11328, Rating: 4.6\n",
      "10. Movie ID: 16048, Rating: 4.6\n",
      "1. Movie : Terminator 2: Judgment Day (1991), Rating: 5.0\n",
      "2. Movie : Boy Called Hate, A (1995), Rating: 4.6\n",
      "3. Movie : Green Mile, The (1999), Rating: 4.6\n",
      "4. Movie : Dinner Rush (2000), Rating: 4.6\n",
      "5. Movie : Man's Best Friend (1993), Rating: 4.6\n",
      "6. Movie : Junior Bonner (1972), Rating: 4.6\n",
      "7. Movie : Battle Hymn (1957), Rating: 4.6\n",
      "8. Movie : Movie not in the list, Rating: 4.6\n",
      "9. Movie : Movie not in the list, Rating: 4.6\n",
      "10. Movie : Movie not in the list, Rating: 4.6\n"
     ]
    }
   ],
   "source": [
    "user_ratings = movie_ratings  # Use the provided 'movie_ratings' dictionary\n",
    "\n",
    "# Train a KNN model to predict ratings\n",
    "vectorizer = TfidfVectorizer()\n",
    "X = vectorizer.fit_transform(rated_movies_df['genres'])\n",
    "y = rated_movies_df['rating']\n",
    "\n",
    "neigh = KNeighborsRegressor(n_neighbors=5)\n",
    "neigh.fit(X, y)\n",
    "\n",
    "#Predict ratings for unrated movies\n",
    "X_unrated = vectorizer.transform(unrated_movies_df['genres'])\n",
    "y_unrated = neigh.predict(X_unrated)\n",
    "\n",
    "#Dictionary with movie IDs and predicted ratings\n",
    "predicted_ratings = {}\n",
    "for idx, movie_id in enumerate(unrated_movies_df.index):\n",
    "    predicted_ratings[movie_id] = y_unrated[idx]\n",
    "\n",
    "user_and_predicted_ratings = {**user_ratings, **predicted_ratings}\n",
    "\n",
    "# Sort the movies based on the combined ratings\n",
    "sorted_movies = sorted(user_and_predicted_ratings.items(), key=lambda x: x[1], reverse=True)\n",
    "\n",
    "# Print the top 10 recommended movies\n",
    "print(\"Top 10 Recommended Movies:\")\n",
    "for i, (movie_id, rating) in enumerate(sorted_movies[:10], 1):\n",
    "    print(f\"{i}. Movie ID: {movie_id}, Rating: {rating}\")\n",
    "for i, (movie_id, rating) in enumerate(sorted_movies[:10], 1):\n",
    "    print(f\"{i}. Movie : {get_movie_name(movie_id)}, Rating: {rating}\")"
   ]
  },
  {
   "cell_type": "markdown",
   "metadata": {},
   "source": [
    "## Group Recommender system\n",
    "In this case I decided not to ask the users for the ratings because it is counterproductive. In this case, the group ratings will be already defined in the code\n"
   ]
  },
  {
   "cell_type": "code",
   "execution_count": 6,
   "metadata": {},
   "outputs": [],
   "source": [
    "#Some random group users movie ratings\n",
    "group_movie_ratings = [\n",
    "    {1: 5, 2: 3, 13: 4, 3: 4.5},\n",
    "    {190: 2, 9372: 4, 837: 1.5},\n",
    "    {89: 3.5, 7521: 3, 90: 3.5}\n",
    "]"
   ]
  },
  {
   "cell_type": "code",
   "execution_count": 7,
   "metadata": {},
   "outputs": [
    {
     "name": "stdout",
     "output_type": "stream",
     "text": [
      "ADD HERE YOUR MOVIE RECOMMENDATIONS BASED ON 'group_movie_ratings'\n",
      "ADD HERE YOUR EXPLANATION ON THE MOVIE RECOMMENDATIONS\n"
     ]
    }
   ],
   "source": [
    "#----------------------------ADD YOUR WORK HERE-----------------------------\n",
    "print(\"ADD HERE YOUR MOVIE RECOMMENDATIONS BASED ON \\'group_movie_ratings\\'\")\n",
    "print('ADD HERE YOUR EXPLANATION ON THE MOVIE RECOMMENDATIONS')\n",
    "#----------------------------ADD YOUR WORK HERE-----------------------------"
   ]
  }
 ],
 "metadata": {
  "kernelspec": {
   "display_name": "Python 3",
   "language": "python",
   "name": "python3"
  },
  "language_info": {
   "codemirror_mode": {
    "name": "ipython",
    "version": 3
   },
   "file_extension": ".py",
   "mimetype": "text/x-python",
   "name": "python",
   "nbconvert_exporter": "python",
   "pygments_lexer": "ipython3",
   "version": "3.8.8"
  },
  "vscode": {
   "interpreter": {
    "hash": "22f13262d230a7eb2c88ed6f82439cb58d0140fb72e1eb566319f7b56c83025d"
   }
  }
 },
 "nbformat": 4,
 "nbformat_minor": 2
}
