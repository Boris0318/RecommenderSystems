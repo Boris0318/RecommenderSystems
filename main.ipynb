{
 "cells": [
  {
   "cell_type": "markdown",
   "metadata": {},
   "source": [
    "## Individual Recommender system\n",
    "Running the cell below you can actually put the individual recommender system in practice. Do not add any actual code about the recommenders in this notebook, do that in 'recommender.ipynb' and then import the necessary methods you need. (ask chatgpt how to do so) "
   ]
  },
  {
   "cell_type": "code",
   "execution_count": 95,
   "metadata": {},
   "outputs": [],
   "source": [
    "from surprise import Dataset, Reader, SVD\n",
    "from collections import defaultdict\n"
   ]
  },
  {
   "cell_type": "code",
   "execution_count": 10,
   "metadata": {},
   "outputs": [],
   "source": [
    "import pandas as pd\n",
    "from fuzzywuzzy import fuzz\n",
    "from fuzzywuzzy import process\n",
    "import keyboard\n",
    "from sklearn.feature_extraction.text import TfidfVectorizer\n",
    "from sklearn.neighbors import KNeighborsRegressor"
   ]
  },
  {
   "cell_type": "code",
   "execution_count": 182,
   "metadata": {},
   "outputs": [],
   "source": [
    "ratings_df = pd.read_csv('Data/filtered_ratings.csv')\n",
    "movies = pd.read_csv('Data/movies.csv')"
   ]
  },
  {
   "cell_type": "code",
   "execution_count": 103,
   "metadata": {},
   "outputs": [],
   "source": [
    "def get_movie_name(movie_id):\n",
    "    movie_row = movies[movies['movieId'] == movie_id]\n",
    "\n",
    "    if not movie_row.empty:\n",
    "        return movie_row['title'].iloc[0]\n",
    "    else:\n",
    "        return \"Movie not in the list\""
   ]
  },
  {
   "cell_type": "code",
   "execution_count": 200,
   "metadata": {},
   "outputs": [],
   "source": [
    "def newUser(movie_ratings):\n",
    "    new_user_id = 1\n",
    "    \n",
    "    # Find the next available user ID\n",
    "    with open('Data/filtered_ratings.csv', mode='r', newline='') as file:\n",
    "        csv_reader = csv.reader(file)\n",
    "        next(csv_reader)  # Skip the header row\n",
    "        existing_user_ids = set()\n",
    "        for row in csv_reader:\n",
    "            existing_user_ids.add(int(row[0]))\n",
    "        while new_user_id in existing_user_ids:\n",
    "            new_user_id += 1\n",
    "\n",
    "    # Write the new user's ratings to the CSV file, each in a separate row\n",
    "    with open('Data/filtered_ratings.csv', mode='a', newline='') as file:\n",
    "        writer = csv.writer(file)\n",
    "        for movie_id, rating in movie_ratings.items():\n",
    "            writer.writerow([new_user_id, movie_id, rating])\n",
    "    return new_user_id"
   ]
  },
  {
   "cell_type": "code",
   "execution_count": 220,
   "metadata": {},
   "outputs": [],
   "source": [
    "import random\n",
    "def recommendKNN(movie_ratings, new_user_id):\n",
    "    # Filter users with more than 200 ratings\n",
    "#     user_ratings = pd.Series(movie_ratings)\n",
    "#     users_ratings = ratings_df.groupby('userId').count()\n",
    "#     selected_users = users_ratings[users_ratings['rating'] > 200].index.tolist()\n",
    "    \n",
    "    # Select a random user\n",
    "#     selected_user = random.choice(selected_users)\n",
    "    selected_user = new_user_id\n",
    "    \n",
    "    # Filter ratings for the selected user\n",
    "    selected_user_ratings = ratings_df[ratings_df['userId'] == selected_user]\n",
    "    \n",
    "    # Merge ratings with movie data\n",
    "    rated_movies_df = movies.merge(selected_user_ratings, on='movieId', how='inner')\n",
    "    \n",
    "    # Create TF-IDF vectors for movie genres\n",
    "    vectorizer = TfidfVectorizer()\n",
    "    X = vectorizer.fit_transform(rated_movies_df['genres'])\n",
    "    y = rated_movies_df['rating']\n",
    "    \n",
    "    # Train KNN Regressor\n",
    "    neighbors = 0\n",
    "    if(len(movie_ratings)< 5):\n",
    "       neighbors = len(movie_ratings)\n",
    "    nighbors = 5\n",
    "    neigh = KNeighborsRegressor(n_neighbors=neighbors)\n",
    "    neigh.fit(X, y)\n",
    "    \n",
    "    # Predict ratings for unrated movies\n",
    "    unrated_movies = movies[~movies['movieId'].isin(rated_movies_df['movieId'])]\n",
    "    X_unrated = vectorizer.transform(unrated_movies['genres'])\n",
    "    y_unrated = neigh.predict(X_unrated)\n",
    "    \n",
    "    # Create a dictionary with movie IDs and predicted ratings\n",
    "    predicted_ratings = dict(zip(unrated_movies['movieId'], y_unrated))\n",
    "    \n",
    "    # Combine user ratings and predicted ratings\n",
    "    user_and_predicted_ratings = {**user_ratings, **predicted_ratings}\n",
    "    \n",
    "    # Sort the movies based on the combined ratings\n",
    "    sorted_movies = sorted(user_and_predicted_ratings.items(), key=lambda x: x[1], reverse=True)\n",
    "    common_movie_count = 0\n",
    "#     for i, (movie_id, rating) in enumerate(sorted_movies[common_movie_count:10+ common_movie_count], 1):\n",
    "    for i, (movie_id, rating) in enumerate(sorted_movies, 1):\n",
    "        if movie_id in movie_ratings:\n",
    "            common_movie_count += 1\n",
    "#             print(f\"{i}. Movie : {get_movie_name(movie_id)}, Rating: {rating}\")\n",
    "#             print(f\"{i}. Movie : {get_movie_name(movie_id)}\")\n",
    "    for i, (movie_id, rating) in enumerate(sorted_movies[common_movie_count:10+ common_movie_count], 1):\n",
    "#         if movie_id not in movie_ratings:\n",
    "#             common_movie_count += 1\n",
    "#             print(f\"{i}. Movie : {get_movie_name(movie_id)}, Rating: {rating}\")\n",
    "        print(f\"{i}. Movie : {get_movie_name(movie_id)}\")\n",
    "            \n",
    "    return sorted_movies"
   ]
  },
  {
   "cell_type": "code",
   "execution_count": 221,
   "metadata": {
    "scrolled": false
   },
   "outputs": [
    {
     "name": "stdout",
     "output_type": "stream",
     "text": [
      "Enter a movie name (or 'done' to finish): toy story\n",
      "Enter a rating for 'Toy Story (1995)' (1-5): 5\n",
      "Rating for 'Toy Story (1995)' added.\n",
      "Enter a movie name (or 'done' to finish): finding nemo\n",
      "Enter a rating for 'Finding Nemo (2003)' (1-5): 4\n",
      "Rating for 'Finding Nemo (2003)' added.\n",
      "Enter a movie name (or 'done' to finish): termiantor\n",
      "Movie 'termiantor' not found in the database.\n",
      "Enter a movie name (or 'done' to finish): 1\n",
      "Enter a rating for 'Naked Gun 33 1/3: The Final Insult (1994)' (1-5): 4\n",
      "Rating for 'Naked Gun 33 1/3: The Final Insult (1994)' added.\n",
      "Enter a movie name (or 'done' to finish): knn\n",
      "Enter a rating for 'Shed No Tears (Känn ingen sorg) (2013)' (1-5): 4\n",
      "Rating for 'Shed No Tears (Känn ingen sorg) (2013)' added.\n",
      "Enter a movie name (or 'done' to finish): done\n",
      "Enter 'genre' for genre-based recommendation or 'knn' for similar user recommendation: knn\n",
      "1. Movie : Terminator 2: Judgment Day (1991)\n",
      "2. Movie : Jumanji (1995)\n",
      "3. Movie : Grumpier Old Men (1995)\n",
      "4. Movie : Waiting to Exhale (1995)\n",
      "5. Movie : Father of the Bride Part II (1995)\n",
      "6. Movie : Heat (1995)\n",
      "7. Movie : Sabrina (1995)\n",
      "8. Movie : Tom and Huck (1995)\n",
      "9. Movie : Sudden Death (1995)\n",
      "10. Movie : GoldenEye (1995)\n",
      "{1: 5.0, 6377: 4.0, 370: 4.0, 106753: 4.0}\n"
     ]
    }
   ],
   "source": [
    "\n",
    "movie_ratings = {}\n",
    "\n",
    "while True:\n",
    "    movie_name = input(\"Enter a movie name (or 'done' to finish): \")\n",
    "    \n",
    "    if movie_name.lower() == 'done' or keyboard.is_pressed('esc'):\n",
    "        break\n",
    "    \n",
    "    matched_movies = process.extractOne(movie_name, movies['title'], scorer=fuzz.token_set_ratio)\n",
    "\n",
    "    if matched_movies[1] >= 80:  # Similarity threshold\n",
    "        movie_id = movies[movies['title'] == matched_movies[0]]['movieId'].values[0]\n",
    "        correct_movie_name = matched_movies[0]\n",
    "        while True:\n",
    "            rating = input(f\"Enter a rating for '{correct_movie_name}' (1-5): \")\n",
    "            try:\n",
    "                rating = float(rating)\n",
    "                if 1 <= rating <= 5:\n",
    "                    break\n",
    "               \n",
    "                else:\n",
    "                    print(\"Rating must be between 1 and 5.\")\n",
    "            except ValueError:\n",
    "                print(\"Invalid rating. Please enter a number between 1 and 5.\")\n",
    "        \n",
    "        movie_ratings[movie_id] = rating\n",
    "        print(f\"Rating for '{correct_movie_name}' added.\")\n",
    "    else:\n",
    "        print(f\"Movie '{movie_name}' not found in the database.\")\n",
    "    \n",
    "if movie_ratings:\n",
    "    while True:\n",
    "        recommendation_type = input(\"Enter 'genre' for genre-based recommendation or 'knn' for similar user recommendation: \").lower()\n",
    "        if recommendation_type == 'genre':\n",
    "\n",
    "            #----------------------------ADD YOUR WORK HERE-----------------------------\n",
    "            print('ADD HERE YOUR GENRE-BASED RECOMMENDATIONS BASED ON \\'movie_ratings\\'')\n",
    "            print('ADD HERE YOUR EXPLANATION ON THE MOVIE RECOMMENDATIONS')\n",
    "            #----------------------------ADD YOUR WORK HERE-----------------------------\n",
    "\n",
    "        elif recommendation_type == 'knn':\n",
    "\n",
    "            #----------------------------ADD YOUR WORK HERE-----------------------------\n",
    "            user = newUser(movie_ratings)\n",
    "            ratings_df = pd.read_csv('Data/filtered_ratings.csv')\n",
    "            recommendKNN(movie_ratings,user)\n",
    "#             print('ADD HERE YOUR EXPLANATION ON THE MOVIE RECOMMENDATIONS')\n",
    "            #----------------------------ADD YOUR WORK HERE-----------------------------\n",
    "\n",
    "        else:\n",
    "            print(\"Invalid choice. Please enter 'genre' or 'user'.\")\n",
    "        break\n",
    "\n",
    "\n",
    "# print(\"MovieId-Rating Dictionary:\")\n",
    "print(movie_ratings)\n"
   ]
  },
  {
   "cell_type": "markdown",
   "metadata": {},
   "source": [
    "### Indivual Recimmender using KNN"
   ]
  },
  {
   "cell_type": "code",
   "execution_count": 78,
   "metadata": {},
   "outputs": [
    {
     "name": "stdout",
     "output_type": "stream",
     "text": [
      "Selected user: 9834\n"
     ]
    }
   ],
   "source": [
    "users_ratings = ratings_df.groupby(['userId']).count()\n",
    "\n",
    "selected = users_ratings['rating'] > 200\n",
    "selected_users = users_ratings.loc[selected]\n",
    "random_selected = selected_users.sample() # sample() returns a random row from the dataframe. The returned object is a dataframe with one row. If you pass a number as argument you specify to select more than one row.\n",
    "select_column_df = random_selected.reset_index()['userId'] # reset_index() create a new index, and the user became a column. Then, we can filter using the column name\n",
    "selected_user = select_column_df.iloc[0] # iloc select by index, since our dataframe only has one row we read it from the index 0\n",
    "# selected_user = 19\n",
    "print(\"Selected user: \" + str(selected_user))"
   ]
  },
  {
   "cell_type": "code",
   "execution_count": 79,
   "metadata": {},
   "outputs": [
    {
     "name": "stdout",
     "output_type": "stream",
     "text": [
      "Rated movies: 780\n"
     ]
    },
    {
     "name": "stderr",
     "output_type": "stream",
     "text": [
      "<ipython-input-79-42af8ea5343e>:2: SettingWithCopyWarning: \n",
      "A value is trying to be set on a copy of a slice from a DataFrame.\n",
      "Try using .loc[row_indexer,col_indexer] = value instead\n",
      "\n",
      "See the caveats in the documentation: https://pandas.pydata.org/pandas-docs/stable/user_guide/indexing.html#returning-a-view-versus-a-copy\n",
      "  selected_user_ratings['item'] = selected_user_ratings.index\n"
     ]
    }
   ],
   "source": [
    "selected_user_ratings = ratings_df.loc[ratings_df['userId'] == selected_user]\n",
    "selected_user_ratings['item'] = selected_user_ratings.index \n",
    "selected_user_ratings.to_csv('selected_user_ratings.csv', index=False)\n",
    "selected_user_ratings = selected_user_ratings.sort_values(by='item', ascending=True)\n",
    "print(\"Rated movies: \" + str(selected_user_ratings.shape[0]))\n",
    "# display(selected_user_ratings.head(10))"
   ]
  },
  {
   "cell_type": "code",
   "execution_count": 80,
   "metadata": {},
   "outputs": [],
   "source": [
    "selected_movie_ids = set(selected_user_ratings['movieId'])\n",
    "rated_movies_df = movies.reindex(list(selected_user_ratings['movieId']))\n",
    "# rated_movies_df = movies_df[movies_df['movieId'].isin(selected_movie_ids)]\n",
    "rated_movies_df = rated_movies_df[['title', 'genres']]\n",
    "rated_movies_df['item'] = rated_movies_df.index \n",
    "rated_movies_df.to_csv('rated_movies_df.csv', index=False)"
   ]
  },
  {
   "cell_type": "code",
   "execution_count": 81,
   "metadata": {},
   "outputs": [
    {
     "name": "stdout",
     "output_type": "stream",
     "text": [
      "Unrated movies: 26705\n"
     ]
    }
   ],
   "source": [
    "diff = set(movies.index) - set(rated_movies_df.index)\n",
    "unrated_movies_df = movies.loc[diff]\n",
    "# display(unrated_movies_df.head())\n",
    "unrated_movies_df = unrated_movies_df[['title', 'genres']]\n",
    "print(\"Unrated movies: \" + str(unrated_movies_df.shape[0]))\n",
    "# display(unrated_movies_df.head(10))"
   ]
  },
  {
   "cell_type": "code",
   "execution_count": 82,
   "metadata": {},
   "outputs": [
    {
     "name": "stdout",
     "output_type": "stream",
     "text": [
      "Rated movies: 780\n"
     ]
    }
   ],
   "source": [
    "rated_movies_df = rated_movies_df.join(selected_user_ratings.set_index('movieId')['rating'], on='item')\n",
    "print(\"Rated movies: \" + str(rated_movies_df.shape[0]))\n",
    "# display(rated_movies_df.head(10))"
   ]
  },
  {
   "cell_type": "code",
   "execution_count": 83,
   "metadata": {},
   "outputs": [],
   "source": [
    "rated_movies_df['genres'].fillna('', inplace=True)\n",
    "vectorizer = TfidfVectorizer()\n",
    "X = vectorizer.fit_transform(rated_movies_df['genres'])\n",
    "rated_movies_df['genres'].fillna('', inplace=True)\n",
    "y = rated_movies_df['rating']\n",
    "neigh = KNeighborsRegressor(n_neighbors=5)\n",
    "neigh.fit(X, y)\n",
    "X_unrated = vectorizer.transform(unrated_movies_df['genres'])\n",
    "y_unrated = neigh.predict(X_unrated)\n",
    "unrated_movies_df['predicted_ratings_KNN'] = y_unrated\n"
   ]
  },
  {
   "cell_type": "code",
   "execution_count": 84,
   "metadata": {},
   "outputs": [
    {
     "name": "stdout",
     "output_type": "stream",
     "text": [
      "Top 10 Recommended Movies:\n",
      "1. Movie ID: 6377, Rating: 5.0\n",
      "2. Movie ID: 12460, Rating: 4.2\n",
      "3. Movie ID: 14325, Rating: 4.2\n",
      "4. Movie ID: 3842, Rating: 4.1\n",
      "5. Movie ID: 8282, Rating: 4.1\n",
      "6. Movie ID: 11187, Rating: 4.1\n",
      "7. Movie ID: 13522, Rating: 4.1\n",
      "8. Movie ID: 15031, Rating: 4.1\n",
      "9. Movie ID: 15269, Rating: 4.1\n",
      "10. Movie ID: 15319, Rating: 4.1\n",
      "1. Movie : Finding Nemo (2003), Rating: 5.0\n",
      "2. Movie : Movie not in the list, Rating: 4.2\n",
      "3. Movie : Movie not in the list, Rating: 4.2\n",
      "4. Movie : Movie not in the list, Rating: 4.1\n",
      "5. Movie : Movie not in the list, Rating: 4.1\n",
      "6. Movie : Movie not in the list, Rating: 4.1\n",
      "7. Movie : Movie not in the list, Rating: 4.1\n",
      "8. Movie : Movie not in the list, Rating: 4.1\n",
      "9. Movie : Movie not in the list, Rating: 4.1\n",
      "10. Movie : Movie not in the list, Rating: 4.1\n"
     ]
    }
   ],
   "source": [
    "user_ratings = movie_ratings  # Use the provided 'movie_ratings' dictionary\n",
    "\n",
    "# Train a KNN model to predict ratings\n",
    "vectorizer = TfidfVectorizer()\n",
    "X = vectorizer.fit_transform(rated_movies_df['genres'])\n",
    "y = rated_movies_df['rating']\n",
    "\n",
    "neigh = KNeighborsRegressor(n_neighbors=5)\n",
    "neigh.fit(X, y)\n",
    "\n",
    "#Predict ratings for unrated movies\n",
    "X_unrated = vectorizer.transform(unrated_movies_df['genres'])\n",
    "y_unrated = neigh.predict(X_unrated)\n",
    "\n",
    "#Dictionary with movie IDs and predicted ratings\n",
    "predicted_ratings = {}\n",
    "for idx, movie_id in enumerate(unrated_movies_df.index):\n",
    "    predicted_ratings[movie_id] = y_unrated[idx]\n",
    "\n",
    "user_and_predicted_ratings = {**user_ratings, **predicted_ratings}\n",
    "\n",
    "# Sort the movies based on the combined ratings\n",
    "sorted_movies = sorted(user_and_predicted_ratings.items(), key=lambda x: x[1], reverse=True)\n",
    "\n",
    "# Print the top 10 recommended movies\n",
    "print(\"Top 10 Recommended Movies:\")\n",
    "for i, (movie_id, rating) in enumerate(sorted_movies[:10], 1):\n",
    "    print(f\"{i}. Movie ID: {movie_id}, Rating: {rating}\")\n",
    "for i, (movie_id, rating) in enumerate(sorted_movies[:10], 1):\n",
    "    print(f\"{i}. Movie : {get_movie_name(movie_id)}, Rating: {rating}\")"
   ]
  },
  {
   "cell_type": "markdown",
   "metadata": {},
   "source": [
    "## Group Recommender system\n",
    "In this case I decided not to ask the users for the ratings because it is counterproductive. In this case, the group ratings will be already defined in the code\n"
   ]
  },
  {
   "cell_type": "code",
   "execution_count": 6,
   "metadata": {},
   "outputs": [],
   "source": [
    "#Some random group users movie ratings\n",
    "group_movie_ratings = [\n",
    "    {1: 5, 2: 3, 13: 4, 3: 4.5},\n",
    "    {190: 2, 9372: 4, 837: 1.5},\n",
    "    {89: 3.5, 7521: 3, 90: 3.5}\n",
    "]"
   ]
  },
  {
   "cell_type": "code",
   "execution_count": 7,
   "metadata": {},
   "outputs": [
    {
     "name": "stdout",
     "output_type": "stream",
     "text": [
      "ADD HERE YOUR MOVIE RECOMMENDATIONS BASED ON 'group_movie_ratings'\n",
      "ADD HERE YOUR EXPLANATION ON THE MOVIE RECOMMENDATIONS\n"
     ]
    }
   ],
   "source": [
    "#----------------------------ADD YOUR WORK HERE-----------------------------\n",
    "print(\"ADD HERE YOUR MOVIE RECOMMENDATIONS BASED ON \\'group_movie_ratings\\'\")\n",
    "print('ADD HERE YOUR EXPLANATION ON THE MOVIE RECOMMENDATIONS')\n",
    "#----------------------------ADD YOUR WORK HERE-----------------------------"
   ]
  }
 ],
 "metadata": {
  "kernelspec": {
   "display_name": "Python 3",
   "language": "python",
   "name": "python3"
  },
  "language_info": {
   "codemirror_mode": {
    "name": "ipython",
    "version": 3
   },
   "file_extension": ".py",
   "mimetype": "text/x-python",
   "name": "python",
   "nbconvert_exporter": "python",
   "pygments_lexer": "ipython3",
   "version": "3.8.8"
  },
  "vscode": {
   "interpreter": {
    "hash": "22f13262d230a7eb2c88ed6f82439cb58d0140fb72e1eb566319f7b56c83025d"
   }
  }
 },
 "nbformat": 4,
 "nbformat_minor": 2
}
